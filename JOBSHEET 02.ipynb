{
  "nbformat": 4,
  "nbformat_minor": 0,
  "metadata": {
    "colab": {
      "provenance": [],
      "authorship_tag": "ABX9TyMae/ikulYiBVXvYTcKifAY",
      "include_colab_link": true
    },
    "kernelspec": {
      "name": "python3",
      "display_name": "Python 3"
    },
    "language_info": {
      "name": "python"
    }
  },
  "cells": [
    {
      "cell_type": "markdown",
      "metadata": {
        "id": "view-in-github",
        "colab_type": "text"
      },
      "source": [
        "<a href=\"https://colab.research.google.com/github/HfzhImn/2025_PBO-TI-1B/blob/main/Jobsheet%2002%3A%20Dasar%20Kelas%20dan%20Fungsi%20pada%20Bahasa%20Pemrograman%20Python.ipynb\" target=\"_parent\"><img src=\"https://colab.research.google.com/assets/colab-badge.svg\" alt=\"Open In Colab\"/></a>"
      ]
    },
    {
      "cell_type": "markdown",
      "source": [
        "#JOBSHEET 02: DASAR KELAS DAN FUNGSI PADA BAHASA PEMROGRAMAN PYTHON\n"
      ],
      "metadata": {
        "id": "0XWaM_EjrH_z"
      }
    },
    {
      "cell_type": "markdown",
      "source": [
        "## Praktikum 1: Membuat dan Menggunakan Fungsi"
      ],
      "metadata": {
        "id": "A5w_k5QYvFmM"
      }
    },
    {
      "cell_type": "code",
      "source": [
        "# Fungsi Built-in\n",
        "\n",
        "# Fungsi print() adalah contoh fungsi built-in untuk mencetak output\n",
        "print(\"Ini adalah contoh fungsi built-in\")\n",
        "\n",
        "# Fungsi len() adalah contoh fungsi built-in untuk menghitung panjang suatu objek\n",
        "kata = \"Pemrograman\"\n",
        "panjang_kata = len(kata)\n",
        "print(f\"Panjang kata '{kata}' adalah: {panjang_kata}\")\n",
        "\n",
        "# Fungsi max() adalah contoh fungsi built-in untuk mencari nilai maksimum dari sebuah daftar\n",
        "angka = [10, 5, 30, 40, 25]\n",
        "nilai_max = max(angka)\n",
        "print(f\"Nilai maksimum dalam daftar {angka} adalah: {nilai_max}\")\n",
        "\n",
        "# Fungsi User-Defined\n",
        "\n",
        "# Fungsi dengan satu parameter (Menerima satu nilai input)\n",
        "def cetak_kuadrat(angka):\n",
        "    # Menghitung kuadrat dari angka yang diterima sebagai parameter\n",
        "    print(f\"Kuadrat dari {angka} adalah: {angka ** 2}\")\n",
        "\n",
        "# Fungsi dengan beberapa parameter (Menerima lebih dari satu nilai input)\n",
        "def hitung_luas_persegi_panjang(panjang, lebar):\n",
        "    # Menghitung luas persegi panjang\n",
        "    return panjang * lebar\n",
        "\n",
        "# Fungsi dengan beberapa tipe parameter (Menerima berbagai jenis data)\n",
        "def info_mahasiswa(nama, umur, ipk):\n",
        "    # Mencetak informasi mahasiswa\n",
        "    print(f\"Nama: {nama}, Umur: {umur}, IPK: {ipk}\")\n",
        "\n",
        "# Fungsi tanpa return value (Non-return value)\n",
        "def sapa_pengguna(nama):\n",
        "    # Fungsi ini hanya mencetak sapaan tanpa mengembalikan nilai\n",
        "    print(f\"Halo, {nama}! Selamat datang di dunia Python.\")\n",
        "\n",
        "# Fungsi dengan return value\n",
        "def hitung_keliling_persegi(sisi):\n",
        "    # Mengembalikan keliling persegi\n",
        "    return 4 * sisi\n",
        "\n",
        "# Pemanggilan fungsi dengan satu parameter\n",
        "cetak_kuadrat(5)\n",
        "\n",
        "# Pemanggilan fungsi dengan beberapa parameter\n",
        "luas = hitung_luas_persegi_panjang(10, 5)\n",
        "print(f\"Luas persegi panjang: {luas}\")\n",
        "\n",
        "# Pemanggilan fungsi dengan beberapa tipe parameter\n",
        "info_mahasiswa(\"Budi\", 22, 3.8)\n",
        "\n",
        "# Pemanggilan fungsi tanpa return value\n",
        "sapa_pengguna(\"Andi\")\n",
        "\n",
        "# Pemanggilan fungsi dengan return value\n",
        "keliling = hitung_keliling_persegi(5)\n",
        "print(f\"Keliling persegi dengan sisi 5 adalah: {keliling}\")\n"
      ],
      "metadata": {
        "colab": {
          "base_uri": "https://localhost:8080/"
        },
        "id": "A3T2M_D6vKDJ",
        "outputId": "ffb639d4-e1b5-4dc3-bb3f-736e5972f708"
      },
      "execution_count": 4,
      "outputs": [
        {
          "output_type": "stream",
          "name": "stdout",
          "text": [
            "Ini adalah contoh fungsi built-in\n",
            "Panjang kata 'Pemrograman' adalah: 11\n",
            "Nilai maksimum dalam daftar [10, 5, 30, 40, 25] adalah: 40\n",
            "Kuadrat dari 5 adalah: 25\n",
            "Luas persegi panjang: 50\n",
            "Nama: Budi, Umur: 22, IPK: 3.8\n",
            "Halo, Andi! Selamat datang di dunia Python.\n",
            "Keliling persegi dengan sisi 5 adalah: 20\n"
          ]
        }
      ]
    },
    {
      "cell_type": "markdown",
      "source": [
        "## Praktikum 2: Modularisasi Kode dengan Fungsi"
      ],
      "metadata": {
        "id": "FYrwHzXRvRFR"
      }
    },
    {
      "cell_type": "code",
      "source": [
        "# File utama main.py yang mengimpor modul geometri.py\n",
        "\n",
        "# Mengimpor modul geometri\n",
        "import geometri\n",
        "\n",
        "def main():\n",
        "    # Menggunakan fungsi dari modul geometri\n",
        "    luas_persegi = geometri.hitung_luas_persegi(5)\n",
        "    print(f\"Luas persegi dengan sisi 5 adalah: {luas_persegi}\")\n",
        "\n",
        "    luas_persegi_panjang = geometri.hitung_luas_persegi_panjang(10, 5)\n",
        "    print(f\"Luas persegi panjang dengan panjang 10 dan lebar 5 adalah: {luas_persegi_panjang}\")\n",
        "\n",
        "    luas_lingkaran = geometri.hitung_luas_lingkaran(7)\n",
        "    print(f\"Luas lingkaran dengan jari-jari 7 adalah: {luas_lingkaran}\")\n",
        "\n",
        "if __name__ == \"__main__\":\n",
        "    main()\n"
      ],
      "metadata": {
        "colab": {
          "base_uri": "https://localhost:8080/"
        },
        "id": "4fMH2m-Uw3Ej",
        "outputId": "6b341223-4f02-4ae5-d53e-d728df2053e7"
      },
      "execution_count": 5,
      "outputs": [
        {
          "output_type": "stream",
          "name": "stdout",
          "text": [
            "Luas persegi dengan sisi 5 adalah: 25\n",
            "Luas persegi panjang dengan panjang 10 dan lebar 5 adalah: 50\n",
            "Luas lingkaran dengan jari-jari 7 adalah: 153.86\n"
          ]
        }
      ]
    },
    {
      "cell_type": "markdown",
      "source": [
        "##Praktikum 3: Membuat Kelas Sederhana"
      ],
      "metadata": {
        "id": "ucZZydVdxYzR"
      }
    },
    {
      "cell_type": "code",
      "source": [
        "# Kelas Buku untuk merepresentasikan buku di perpustakaan\n",
        "class Buku:\n",
        "    def __init__(self, judul, pengarang, tahun_terbit):\n",
        "        self.judul = judul\n",
        "        self.pengarang = pengarang\n",
        "        self.tahun_terbit = tahun_terbit\n",
        "        self.status = \"Tersedia\"  # Status buku, default adalah Tersedia\n",
        "\n",
        "    def tampilkan_info(self):\n",
        "        print(f\"Judul: {self.judul}\")\n",
        "        print(f\"Pengarang: {self.pengarang}\")\n",
        "        print(f\"Tahun Terbit: {self.tahun_terbit}\")\n",
        "        print(f\"Status: {self.status}\")\n",
        "\n",
        "    def pinjam(self):\n",
        "        if self.status == \"Tersedia\":\n",
        "            self.status = \"Dipinjam\"\n",
        "            print(f\"Buku '{self.judul}' telah dipinjam.\")\n",
        "        else:\n",
        "            print(f\"Buku '{self.judul}' sedang dipinjam.\")\n",
        "\n",
        "    def kembalikan(self):\n",
        "        if self.status == \"Dipinjam\":\n",
        "            self.status = \"Tersedia\"\n",
        "            print(f\"Buku '{self.judul}' telah dikembalikan.\")\n",
        "        else:\n",
        "            print(f\"Buku '{self.judul}' tidak sedang dipinjam.\")\n",
        "\n",
        "# Membuat objek dari kelas Buku\n",
        "buku1 = Buku(\"Pemrograman Python\", \"John Doe\", 2021)\n",
        "buku2 = Buku(\"Data Science untuk Pemula\", \"Jane Smith\", 2020)\n",
        "\n",
        "# Menggunakan metode objek Buku\n",
        "buku1.tampilkan_info()\n",
        "buku2.pinjam()\n",
        "\n",
        "# Mengubah status buku dan menampilkan informasi\n",
        "buku2.kembalikan()\n",
        "buku1.pinjam()\n",
        "buku1.tampilkan_info()\n",
        "\n",
        "\n",
        "# Kelas Mahasiswa untuk merepresentasikan Mahasiswa dalam kelas\n",
        "class Mahasiswa:\n",
        "    # Konstruktor (__init__) untuk menginisialisasi atribut objek\n",
        "    def __init__(self, nama, nim, umur):\n",
        "        self.nama = nama  # Atribut objek nama\n",
        "        self.nim = nim    # Atribut objek NIM\n",
        "        self.umur = umur  # Atribut objek umur\n",
        "\n",
        "    # Metode untuk menampilkan informasi mahasiswa\n",
        "    def tampilkan_info(self):\n",
        "        print(f\"Nama: {self.nama}\")\n",
        "        print(f\"NIM: {self.nim}\")\n",
        "        print(f\"Umur: {self.umur} tahun\")\n",
        "\n",
        "    # Metode untuk mengubah umur mahasiswa\n",
        "    def ubah_umur(self, umur_baru):\n",
        "        self.umur = umur_baru\n",
        "\n",
        "# Membuat objek (instance) dari kelas Mahasiswa\n",
        "mahasiswa1 = Mahasiswa(\"Andi\", \"12345\", 20)\n",
        "mahasiswa2 = Mahasiswa(\"Budi\", \"67890\", 22)\n",
        "\n",
        "# Menggunakan metode dari kelas Mahasiswa\n",
        "mahasiswa1.tampilkan_info()\n",
        "print()  # Baris kosong\n",
        "mahasiswa2.tampilkan_info()\n",
        "\n",
        "# Mengubah umur mahasiswa1 menggunakan metode ubah_umur\n",
        "mahasiswa1.ubah_umur(21)\n",
        "\n",
        "# Menampilkan info mahasiswa setelah umur diubah\n",
        "print(\"\\nSetelah mengubah umur mahasiswa1:\")\n",
        "mahasiswa1.tampilkan_info()\n"
      ],
      "metadata": {
        "colab": {
          "base_uri": "https://localhost:8080/"
        },
        "id": "SvHb-VHrxgkH",
        "outputId": "e9b2e161-a527-4293-9cfe-14e18d9e8ebf"
      },
      "execution_count": 6,
      "outputs": [
        {
          "output_type": "stream",
          "name": "stdout",
          "text": [
            "Judul: Pemrograman Python\n",
            "Pengarang: John Doe\n",
            "Tahun Terbit: 2021\n",
            "Status: Tersedia\n",
            "Buku 'Data Science untuk Pemula' telah dipinjam.\n",
            "Buku 'Data Science untuk Pemula' telah dikembalikan.\n",
            "Buku 'Pemrograman Python' telah dipinjam.\n",
            "Judul: Pemrograman Python\n",
            "Pengarang: John Doe\n",
            "Tahun Terbit: 2021\n",
            "Status: Dipinjam\n",
            "Nama: Andi\n",
            "NIM: 12345\n",
            "Umur: 20 tahun\n",
            "\n",
            "Nama: Budi\n",
            "NIM: 67890\n",
            "Umur: 22 tahun\n",
            "\n",
            "Setelah mengubah umur mahasiswa1:\n",
            "Nama: Andi\n",
            "NIM: 12345\n",
            "Umur: 21 tahun\n"
          ]
        }
      ]
    },
    {
      "cell_type": "markdown",
      "source": [
        "##Praktikum 4: Membuat dan Menggunakan Method dalam Kelas"
      ],
      "metadata": {
        "id": "cQWAu8FxyXfJ"
      }
    },
    {
      "cell_type": "code",
      "source": [
        "# Kelas untuk menjelaskan atribut dan metode dalam kelas\n",
        "class Mobil:\n",
        "    def __init__(self, merk, warna, tahun, harga):\n",
        "        # Atribut yang dimiliki oleh objek Mobil\n",
        "        self.merk = merk\n",
        "        self.warna = warna\n",
        "        self.tahun = tahun\n",
        "        self.harga = harga\n",
        "\n",
        "    # Fungsi tanpa return value, hanya mencetak informasi\n",
        "    def tampilkan_info(self):\n",
        "        print(f\"Mobil {self.merk} berwarna {self.warna}, tahun {self.tahun}, harga: Rp {self.harga}\")\n",
        "\n",
        "    # Fungsi dengan satu parameter\n",
        "    def diskon(self, persen_diskon):\n",
        "        # Menghitung harga setelah diskon\n",
        "        diskon_harga = self.harga * (persen_diskon / 100)\n",
        "        harga_setelah_diskon = self.harga - diskon_harga\n",
        "        print(f\"Harga setelah diskon {persen_diskon}%: Rp {harga_setelah_diskon}\")\n",
        "\n",
        "    # Fungsi dengan return value, menghitung usia mobil berdasarkan tahun\n",
        "    def hitung_usia(self, tahun_sekarang):\n",
        "        usia = tahun_sekarang - self.tahun\n",
        "        return usia\n",
        "\n",
        "    # Fungsi dengan beberapa parameter\n",
        "    def perbarui_harga(self, harga_baru, tahun_baru):\n",
        "        self.harga = harga_baru\n",
        "        self.tahun = tahun_baru\n",
        "        print(f\"Harga dan tahun mobil {self.merk} diperbarui menjadi Rp {self.harga} dan tahun {self.tahun}\")\n",
        "\n",
        "# Membuat objek mobil\n",
        "mobil1 = Mobil(\"Toyota\", \"Hitam\", 2015, 300000000)\n",
        "mobil2 = Mobil(\"Honda\", \"Merah\", 2018, 250000000)\n",
        "\n",
        "# Menggunakan metode tanpa return value\n",
        "mobil1.tampilkan_info()\n",
        "mobil2.tampilkan_info()\n",
        "\n",
        "# Menggunakan metode dengan satu parameter (diskon)\n",
        "mobil1.diskon(10)\n",
        "mobil2.diskon(15)\n",
        "\n",
        "# Menggunakan metode dengan return value (hitung usia mobil)\n",
        "usia_mobil1 = mobil1.hitung_usia(2025)\n",
        "usia_mobil2 = mobil2.hitung_usia(2025)\n",
        "\n",
        "print(f\"Usia mobil1 pada tahun 2025: {usia_mobil1} tahun\")\n",
        "print(f\"Usia mobil2 pada tahun 2025: {usia_mobil2} tahun\")\n",
        "\n",
        "# Menggunakan metode dengan beberapa parameter (perbarui harga dan tahun)\n",
        "mobil1.perbarui_harga(280000000, 2022)\n",
        "mobil2.perbarui_harga(240000000, 2021)\n"
      ],
      "metadata": {
        "colab": {
          "base_uri": "https://localhost:8080/"
        },
        "id": "VbmPzGJiy90C",
        "outputId": "a39533d8-3692-45de-872a-a02f1708c33e"
      },
      "execution_count": 7,
      "outputs": [
        {
          "output_type": "stream",
          "name": "stdout",
          "text": [
            "Mobil Toyota berwarna Hitam, tahun 2015, harga: Rp 300000000\n",
            "Mobil Honda berwarna Merah, tahun 2018, harga: Rp 250000000\n",
            "Harga setelah diskon 10%: Rp 270000000.0\n",
            "Harga setelah diskon 15%: Rp 212500000.0\n",
            "Usia mobil1 pada tahun 2025: 10 tahun\n",
            "Usia mobil2 pada tahun 2025: 7 tahun\n",
            "Harga dan tahun mobil Toyota diperbarui menjadi Rp 280000000 dan tahun 2022\n",
            "Harga dan tahun mobil Honda diperbarui menjadi Rp 240000000 dan tahun 2021\n"
          ]
        }
      ]
    },
    {
      "cell_type": "markdown",
      "source": [
        "##Penugasan\n",
        "\n",
        "Buat Program: Lihat kembali praktikum 02. Modularisasi dan 03. Kelas sederahan. Buat program sederhana menggunakan dua konsep diatas tentang (Pilih salah satu: A. Penjualan HP, B. jadwal kelas, C. Parkir roda dua).\n",
        "\n",
        "\n",
        "##Dipilih: Pengelolaan Parkir Roda Dua\n"
      ],
      "metadata": {
        "id": "DY8yNTcAEdTd"
      }
    },
    {
      "cell_type": "code",
      "source": [
        "from parkir import Motor, Parkir\n",
        "\n",
        "\n",
        "def tampilkan_menu():\n",
        "    print(\"\\n=== SISTEM PENGELOLAAN PARKIR RODA DUA ===\")\n",
        "    print(\"1. Motor Masuk\")\n",
        "    print(\"2. Motor Keluar\")\n",
        "    print(\"3. Cek Slot Tersedia\")\n",
        "    print(\"4. Tampilkan Daftar Motor Parkir\")\n",
        "    print(\"5. Keluar\")\n",
        "\n",
        "\n",
        "def main():\n",
        "    parkir = Parkir(kapasitas=5)\n",
        "\n",
        "    while True:\n",
        "        tampilkan_menu()\n",
        "        pilihan = input(\"Pilih menu: \")\n",
        "\n",
        "        if pilihan == '1':\n",
        "            plat_nomor = input(\"Masukkan Plat Nomor: \")\n",
        "            merk = input(\"Masukkan Merk Motor: \")\n",
        "            warna = input(\"Masukkan Warna Motor: \")\n",
        "            motor = Motor(plat_nomor, merk, warna)\n",
        "            parkir.motor_masuk(motor)\n",
        "\n",
        "        elif pilihan == '2':\n",
        "            plat_nomor = input(\"Masukkan Plat Nomor yang akan keluar: \")\n",
        "            parkir.motor_keluar(plat_nomor)\n",
        "\n",
        "        elif pilihan == '3':\n",
        "            print(f\"Slot Tersedia: {parkir.cek_slot_tersedia()} dari {parkir.kapasitas}\")\n",
        "\n",
        "        elif pilihan == '4':\n",
        "            parkir.tampilkan_motor()\n",
        "\n",
        "        elif pilihan == '5':\n",
        "            print(\"Sistem parkir ditutup. Terima kasih!\")\n",
        "            break\n",
        "\n",
        "        else:\n",
        "            print(\"Pilihan tidak valid. Coba lagi.\")\n",
        "\n",
        "\n",
        "if __name__ == \"__main__\":\n",
        "    main()\n"
      ],
      "metadata": {
        "colab": {
          "base_uri": "https://localhost:8080/"
        },
        "id": "19tLRy7BEqBg",
        "outputId": "6729f478-f044-447b-cef4-0616ddc3cc4a"
      },
      "execution_count": 8,
      "outputs": [
        {
          "output_type": "stream",
          "name": "stdout",
          "text": [
            "\n",
            "=== SISTEM PENGELOLAAN PARKIR RODA DUA ===\n",
            "1. Motor Masuk\n",
            "2. Motor Keluar\n",
            "3. Cek Slot Tersedia\n",
            "4. Tampilkan Daftar Motor Parkir\n",
            "5. Keluar\n",
            "Pilih menu: 1\n",
            "Masukkan Plat Nomor: H876AQ\n",
            "Masukkan Merk Motor: Yamaha\n",
            "Masukkan Warna Motor: Hitam\n",
            "Motor dengan plat nomor H876AQ berhasil masuk.\n",
            "\n",
            "=== SISTEM PENGELOLAAN PARKIR RODA DUA ===\n",
            "1. Motor Masuk\n",
            "2. Motor Keluar\n",
            "3. Cek Slot Tersedia\n",
            "4. Tampilkan Daftar Motor Parkir\n",
            "5. Keluar\n",
            "Pilih menu: 2\n",
            "Masukkan Plat Nomor yang akan keluar: H876AQ\n",
            "Motor dengan plat nomor H876AQ berhasil keluar.\n",
            "\n",
            "=== SISTEM PENGELOLAAN PARKIR RODA DUA ===\n",
            "1. Motor Masuk\n",
            "2. Motor Keluar\n",
            "3. Cek Slot Tersedia\n",
            "4. Tampilkan Daftar Motor Parkir\n",
            "5. Keluar\n",
            "Pilih menu: 3\n",
            "Slot Tersedia: 5 dari 5\n",
            "\n",
            "=== SISTEM PENGELOLAAN PARKIR RODA DUA ===\n",
            "1. Motor Masuk\n",
            "2. Motor Keluar\n",
            "3. Cek Slot Tersedia\n",
            "4. Tampilkan Daftar Motor Parkir\n",
            "5. Keluar\n",
            "Pilih menu: 4\n",
            "Tidak ada motor yang sedang parkir.\n",
            "\n",
            "=== SISTEM PENGELOLAAN PARKIR RODA DUA ===\n",
            "1. Motor Masuk\n",
            "2. Motor Keluar\n",
            "3. Cek Slot Tersedia\n",
            "4. Tampilkan Daftar Motor Parkir\n",
            "5. Keluar\n",
            "Pilih menu: 5\n",
            "Sistem parkir ditutup. Terima kasih!\n"
          ]
        }
      ]
    }
  ]
}
