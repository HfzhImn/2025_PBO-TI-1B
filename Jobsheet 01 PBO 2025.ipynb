{
  "nbformat": 4,
  "nbformat_minor": 0,
  "metadata": {
    "colab": {
      "provenance": [],
      "toc_visible": true,
      "authorship_tag": "ABX9TyOJYcvZWroBhGJ8iI+0Mn8T",
      "include_colab_link": true
    },
    "kernelspec": {
      "name": "python3",
      "display_name": "Python 3"
    },
    "language_info": {
      "name": "python"
    }
  },
  "cells": [
    {
      "cell_type": "markdown",
      "metadata": {
        "id": "view-in-github",
        "colab_type": "text"
      },
      "source": [
        "<a href=\"https://colab.research.google.com/github/HfzhImn/2025_PBO-TI-1B/blob/main/Jobsheet%2001%20PBO%202025.ipynb\" target=\"_parent\"><img src=\"https://colab.research.google.com/assets/colab-badge.svg\" alt=\"Open In Colab\"/></a>"
      ]
    },
    {
      "cell_type": "markdown",
      "source": [
        "# Jobsheet 01: Dasar Pemrograman Web\n"
      ],
      "metadata": {
        "id": "G_qO848mpfPx"
      }
    },
    {
      "cell_type": "markdown",
      "source": [
        "# Praktikum 01\n"
      ],
      "metadata": {
        "id": "lQokuEdGqD8Y"
      }
    },
    {
      "cell_type": "code",
      "source": [
        "angka_int = 10\n",
        "print(angka_int)"
      ],
      "metadata": {
        "colab": {
          "base_uri": "https://localhost:8080/"
        },
        "id": "e1IAgXesqMmp",
        "outputId": "67b5479f-fd40-43b2-9aa2-91d137948866"
      },
      "execution_count": null,
      "outputs": [
        {
          "output_type": "stream",
          "name": "stdout",
          "text": [
            "10\n"
          ]
        }
      ]
    },
    {
      "cell_type": "code",
      "source": [],
      "metadata": {
        "id": "Khwxt27Sqa1b"
      },
      "execution_count": null,
      "outputs": []
    }
  ]
}