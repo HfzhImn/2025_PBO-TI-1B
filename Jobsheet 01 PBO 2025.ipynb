{
  "nbformat": 4,
  "nbformat_minor": 0,
  "metadata": {
    "colab": {
      "provenance": [],
      "toc_visible": true,
      "authorship_tag": "ABX9TyPCM7XXL32vRH9hswbfiQVO",
      "include_colab_link": true
    },
    "kernelspec": {
      "name": "python3",
      "display_name": "Python 3"
    },
    "language_info": {
      "name": "python"
    }
  },
  "cells": [
    {
      "cell_type": "markdown",
      "metadata": {
        "id": "view-in-github",
        "colab_type": "text"
      },
      "source": [
        "<a href=\"https://colab.research.google.com/github/HfzhImn/2025_PBO-TI-1B/blob/main/Jobsheet%2001%20PBO%202025.ipynb\" target=\"_parent\"><img src=\"https://colab.research.google.com/assets/colab-badge.svg\" alt=\"Open In Colab\"/></a>"
      ]
    },
    {
      "cell_type": "markdown",
      "source": [
        "# Jobsheet 01: Dasar Pemrograman Web\n"
      ],
      "metadata": {
        "id": "G_qO848mpfPx"
      }
    },
    {
      "cell_type": "markdown",
      "source": [
        "##Praktikum 01\n",
        "###Tipe data dasar\n",
        "Pada praktikum ini, mahasiswa akan mempelajari tipe-tipe data dasar yang digunakan dalam\n",
        "pemrograman Python, mulai dari integer, float, dan complex untuk nilai numerik, hingga\n",
        "boolean, string, list, tuple, dictionary, serta set yang memiliki karakteristik serta fungsi\n",
        "tersendiri. Mahasiswa juga akan mempraktikkan cara melakukan konversi tipe data (misalnya\n",
        "dari string ke integer), sehingga dapat lebih memahami bagaimana Python secara dinamis\n",
        "menangani berbagai format data. Pemahaman terhadap tipe data dasar ini menjadi landasan\n",
        "penting dalam mengembangkan logika program yang efisien dan terstruktur, sekaligus\n",
        "mempersiapkan mahasiswa untuk mengimplementasikan konsep pemrograman berorientasi\n",
        "objek di tahap lanjutan.\n"
      ],
      "metadata": {
        "id": "lQokuEdGqD8Y"
      }
    },
    {
      "cell_type": "code",
      "source": [
        "# 1. Number (int, float, complex)\n",
        "# Integer (int)\n",
        "angka_int = 10\n",
        "print(\"angka_int =\", angka_int, \"->\", type(angka_int))"
      ],
      "metadata": {
        "colab": {
          "base_uri": "https://localhost:8080/"
        },
        "id": "Vh5Ge6KL2PnI",
        "outputId": "fd63f6fa-9cc2-42e4-9f0b-5ac22cc6a4f0"
      },
      "execution_count": 7,
      "outputs": [
        {
          "output_type": "stream",
          "name": "stdout",
          "text": [
            "angka_int = 10 -> <class 'int'>\n"
          ]
        }
      ]
    },
    {
      "cell_type": "code",
      "source": [
        "# Float\n",
        "angka_float = 3.14\n",
        "print(\"angka_float =\", angka_float, \"->\", type(angka_float))"
      ],
      "metadata": {
        "colab": {
          "base_uri": "https://localhost:8080/"
        },
        "id": "v15AUYH55qF0",
        "outputId": "e2dc6200-ee7a-449b-e262-6988889eed90"
      },
      "execution_count": 8,
      "outputs": [
        {
          "output_type": "stream",
          "name": "stdout",
          "text": [
            "angka_float = 3.14 -> <class 'float'>\n"
          ]
        }
      ]
    },
    {
      "cell_type": "code",
      "source": [
        "# Complex\n",
        "angka_complex = 2 + 3j\n",
        "print(\"angka_complex =\", angka_complex, \"->\", type(angka_complex))"
      ],
      "metadata": {
        "colab": {
          "base_uri": "https://localhost:8080/"
        },
        "id": "kZohAi5N-ezx",
        "outputId": "cf88cd7b-b324-4c5b-ee0f-b67f8dd26aa3"
      },
      "execution_count": 9,
      "outputs": [
        {
          "output_type": "stream",
          "name": "stdout",
          "text": [
            "angka_complex = (2+3j) -> <class 'complex'>\n"
          ]
        }
      ]
    },
    {
      "cell_type": "code",
      "source": [
        "# 2. Boolean\n",
        "is_active = True\n",
        "print(\"is_active =\", is_active, \"->\", type(is_active))"
      ],
      "metadata": {
        "colab": {
          "base_uri": "https://localhost:8080/"
        },
        "id": "a3dxQnFs-VNB",
        "outputId": "ddfbe42f-9545-4c31-b867-dbc0c2c5acfc"
      },
      "execution_count": 10,
      "outputs": [
        {
          "output_type": "stream",
          "name": "stdout",
          "text": [
            "is_active = True -> <class 'bool'>\n"
          ]
        }
      ]
    },
    {
      "cell_type": "code",
      "source": [
        "# 3. String\n",
        "teks = \"Hello, Python!\"\n",
        "print(\"teks =\", teks, \"->\", type(teks))"
      ],
      "metadata": {
        "colab": {
          "base_uri": "https://localhost:8080/"
        },
        "id": "Gk5xt-MS-9Vr",
        "outputId": "52aebe51-b18b-46ad-dcff-f982d7593d70"
      },
      "execution_count": 11,
      "outputs": [
        {
          "output_type": "stream",
          "name": "stdout",
          "text": [
            "teks = Hello, Python! -> <class 'str'>\n"
          ]
        }
      ]
    },
    {
      "cell_type": "code",
      "source": [
        "# 4. List\n",
        "# List adalah tipe data terurut dan dapat diubah (mutable)\n",
        "daftar_angka = [1, 2, 3, 4, 5]\n",
        "print(\"daftar_angka =\", daftar_angka, \"->\", type(daftar_angka))"
      ],
      "metadata": {
        "colab": {
          "base_uri": "https://localhost:8080/"
        },
        "id": "55XcWY26_Bro",
        "outputId": "fe4764f7-6c9b-4bc8-ccf6-cfbacd2fd5ae"
      },
      "execution_count": 12,
      "outputs": [
        {
          "output_type": "stream",
          "name": "stdout",
          "text": [
            "daftar_angka = [1, 2, 3, 4, 5] -> <class 'list'>\n"
          ]
        }
      ]
    },
    {
      "cell_type": "code",
      "source": [
        "# 5. Tuple\n",
        "# Tuple adalah tipe data terurut tetapi tidak dapat diubah (immutable)\n",
        "koordinat = (10, 20)\n",
        "print(\"koordinat =\", koordinat, \"->\", type(koordinat))"
      ],
      "metadata": {
        "colab": {
          "base_uri": "https://localhost:8080/"
        },
        "id": "-JYpayEk_EzI",
        "outputId": "f231c00b-9f77-4a6b-8bd9-9d9a8811e7b8"
      },
      "execution_count": 13,
      "outputs": [
        {
          "output_type": "stream",
          "name": "stdout",
          "text": [
            "koordinat = (10, 20) -> <class 'tuple'>\n"
          ]
        }
      ]
    },
    {
      "cell_type": "code",
      "source": [
        "# 6. Dictionary\n",
        "# Dictionary menyimpan data dalam pasangan key-value\n",
        "data_mahasiswa = {\n",
        "    \"nama\": \"Andi\",\n",
        "    \"nim\": \"A11.2022.12345\",\n",
        "    \"jurusan\": \"Teknik Informatika\"\n",
        "}\n",
        "print(\"data_mahasiswa =\", data_mahasiswa, \"->\", type(data_mahasiswa))"
      ],
      "metadata": {
        "colab": {
          "base_uri": "https://localhost:8080/"
        },
        "id": "HJjlALa-_L8-",
        "outputId": "963caf55-8904-4b9f-b03a-90a395c37a97"
      },
      "execution_count": 14,
      "outputs": [
        {
          "output_type": "stream",
          "name": "stdout",
          "text": [
            "data_mahasiswa = {'nama': 'Andi', 'nim': 'A11.2022.12345', 'jurusan': 'Teknik Informatika'} -> <class 'dict'>\n"
          ]
        }
      ]
    },
    {
      "cell_type": "code",
      "source": [
        "# 7. Set\n",
        "# Set adalah tipe data yang tidak terurut, unik (tiap elemen hanya muncul 1x)\n",
        "himpunan_angka = {1, 2, 3, 2, 1}\n",
        "print(\"himpunan_angka =\", himpunan_angka, \"->\", type(himpunan_angka))\n"
      ],
      "metadata": {
        "colab": {
          "base_uri": "https://localhost:8080/"
        },
        "id": "VkJ42vS__Uqo",
        "outputId": "ad697f1c-41a0-43ce-9333-234597b7f2fa"
      },
      "execution_count": 15,
      "outputs": [
        {
          "output_type": "stream",
          "name": "stdout",
          "text": [
            "himpunan_angka = {1, 2, 3} -> <class 'set'>\n"
          ]
        }
      ]
    },
    {
      "cell_type": "code",
      "source": [
        "# 8. Contoh penggunaan konversi tipe data\n",
        "nilai_str = \"100\"\n",
        "print(\"\\nnilai_str =\", nilai_str, \"->\", type(nilai_str))\n",
        "nilai_int = int(nilai_str)  # konversi string ke integer\n",
        "print(\"nilai_int =\", nilai_int, \"->\", type(nilai_int))"
      ],
      "metadata": {
        "colab": {
          "base_uri": "https://localhost:8080/"
        },
        "id": "H2R3fHy7_zzC",
        "outputId": "163a5c50-7a40-4324-8cf8-a5c868acaa78"
      },
      "execution_count": 16,
      "outputs": [
        {
          "output_type": "stream",
          "name": "stdout",
          "text": [
            "\n",
            "nilai_str = 100 -> <class 'str'>\n",
            "nilai_int = 100 -> <class 'int'>\n"
          ]
        }
      ]
    },
    {
      "cell_type": "markdown",
      "source": [
        "##Praktikum 02\n",
        "###Variabel dan Operasi dasar\n",
        "Pada praktikum ini, mahasiswa akan mempelajari cara mendeklarasikan variabel tanpa harus\n",
        "menentukan tipe data secara eksplisit di Python. Beragam operasi dasar—seperti aritmetika\n",
        "(penjumlahan, pengurangan, perkalian, pembagian), perbandingan (==, !=, >, <, >=, <=), dan\n",
        "logika (and, or, not)—akan diterapkan untuk memanipulasi nilai yang disimpan dalam variabel.\n",
        "Dengan mempraktikkan berbagai operasi tersebut, mahasiswa dapat memahami bagaimana\n",
        "Python menangani ekspresi matematika dan logika untuk membentuk fondasi pengembangan\n",
        "aplikasi yang lebih kompleks."
      ],
      "metadata": {
        "id": "lA9BvNwIBzic"
      }
    },
    {
      "cell_type": "markdown",
      "source": [
        "##Praktikum 04"
      ],
      "metadata": {
        "id": "TX1pxxcRCMb1"
      }
    },
    {
      "cell_type": "markdown",
      "source": [
        "##Praktikum 03"
      ],
      "metadata": {
        "id": "YEhoxGT6CDvD"
      }
    }
  ]
}