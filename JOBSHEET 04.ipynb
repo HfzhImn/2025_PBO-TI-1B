{
  "nbformat": 4,
  "nbformat_minor": 0,
  "metadata": {
    "colab": {
      "provenance": [],
      "toc_visible": true,
      "authorship_tag": "ABX9TyNiJTvBgLlF1Cu2HLcmkOXE",
      "include_colab_link": true
    },
    "kernelspec": {
      "name": "python3",
      "display_name": "Python 3"
    },
    "language_info": {
      "name": "python"
    }
  },
  "cells": [
    {
      "cell_type": "markdown",
      "metadata": {
        "id": "view-in-github",
        "colab_type": "text"
      },
      "source": [
        "<a href=\"https://colab.research.google.com/github/HfzhImn/2025_PBO-TI-1B/blob/main/JOBSHEET%2004%3A%20MEMAHAMI%20PEWARISAN%20(INHERITANCE)%20DALAM%20PYTHON.ipynb\" target=\"_parent\"><img src=\"https://colab.research.google.com/assets/colab-badge.svg\" alt=\"Open In Colab\"/></a>"
      ]
    },
    {
      "cell_type": "markdown",
      "source": [
        "#Jobsheet 04: Memahami Pewarisan (INHERITANCE) dalam Phyton"
      ],
      "metadata": {
        "id": "aEOxveUDl2YZ"
      }
    },
    {
      "cell_type": "markdown",
      "source": [
        "## Praktikum 01: Inheritance Dasar"
      ],
      "metadata": {
        "id": "M96cEu6FmXIP"
      }
    },
    {
      "cell_type": "code",
      "source": [
        "# Kelas Induk\n",
        "class Kendaraan:\n",
        "  def __init__(self, merk):\n",
        "    self.merk = merk\n",
        "\n",
        "  def mulai_mesin(self):\n",
        "    print(f\"Mesin kendaraan {self.merk} dinyalakan.\")\n",
        "\n",
        "# Kelas Anak (mewarisi dari Kendaraan)\n",
        "class Mobil(Kendaraan):\n",
        "  def __init__(self, merk, warna):\n",
        "# Memanggil __init__ kelas induk\n",
        "# Untuk sekarang, kita set merk secara manual\n",
        "    self.merk = merk # Mewarisi 'merk' tapi di-set ulang di sini\n",
        "    self.warna = warna # Atribut khusus Mobil\n",
        "\n",
        "  def info_mobil(self):\n",
        "     print(f\"Ini adalah mobil {self.merk} bewarna {self.warna}.\")\n",
        "\n",
        "\n",
        "# --- Kode Utama ---\n",
        "if __name__ == \"__main__\":\n",
        "   mobil_tesla = Mobil(\"Tesla Model S\", \"Merah\")\n",
        "\n",
        "# Memanggil metode dari kelas anak\n",
        "mobil_tesla.info_mobil()\n",
        "\n",
        "# Memanggil metode yang diwarisi dari kelas induk\n",
        "mobil_tesla.mulai_mesin()\n",
        "\n",
        "# Mengakses atribut yang diwarisi (dan di-set di anak)\n",
        "print(f\"Merk mobil: {mobil_tesla.merk}\")"
      ],
      "metadata": {
        "colab": {
          "base_uri": "https://localhost:8080/"
        },
        "id": "j0ocT0NPme9b",
        "outputId": "21255672-1db5-4190-9413-0aa48da358d4"
      },
      "execution_count": null,
      "outputs": [
        {
          "output_type": "stream",
          "name": "stdout",
          "text": [
            "Ini adalah mobil Tesla Model S bewarna Merah.\n",
            "Mesin kendaraan Tesla Model S dinyalakan.\n",
            "Merk mobil: Tesla Model S\n"
          ]
        }
      ]
    },
    {
      "cell_type": "markdown",
      "source": [
        "## Praktikum 02: Menggunakan super() dalam konstruktor"
      ],
      "metadata": {
        "id": "CXhbzfuttJIH"
      }
    },
    {
      "cell_type": "code",
      "source": [
        "# Kelas Induk\n",
        "class Person:\n",
        "  def __init__(self, nama, usia):\n",
        "    print(f\"(Memanggil __init__Person untuk '{nama}')\")\n",
        "    self.nama = nama\n",
        "    self.usia = usia\n",
        "\n",
        "  def perkenalkan_diri(self):\n",
        "    print(f\"Halo, nama saya {self.nama}, usia saya {self.usia} tahun.\")\n",
        "\n",
        "# Kelas Anak (mewarisi dari Person)\n",
        "class Student(Person):\n",
        "  def __init__(self, nama, usia, student_id, jurusan):\n",
        "    print(f\"(Memanggil __init__Student untuk '{nama}')\")\n",
        "   # Memanggil __init__ dari kelas Person untuk inisialisasi nama dan usia\n",
        "    super().__init__(nama, usia)\n",
        "   # Menambahkan atribut khusus Student\n",
        "    self.student_id = student_id\n",
        "    self.jurusan = jurusan\n",
        "    print(f\"(Inisialisasi atribut Student selesai untuk '{nama}')\")\n",
        "\n",
        "  def info_akademik(self):\n",
        "    print(f\"ID Mahasiswa: {self.student_id}\")\n",
        "    print(f\"Jurusan: {self.jurusan}\")\n",
        "\n",
        "    # Override perkenalan diri untuk menambahkan info student 27:\n",
        "  def perkenalan_diri(self):\n",
        "    super().perkenalan_diri() #Panggil versi person\n",
        "    print(f\"Saya adalah mahasiswa dengan ID {self.student_id},  jurusan {self.jurusan}.\")\n",
        "\n",
        "# --- Kode Utama ---\n",
        "if __name__ == \"__main__\":\n",
        "# Membuat objek Person\n",
        "  dosen = Person(\"Pak Anton\", 45)\n",
        "  print(\"-\" * 20)\n",
        "  dosen.perkenalkan_diri()\n",
        "  print(\"\\n\" + \"=\" * 30 + \"\\n\")\n",
        "\n",
        "# Membuat objek Student\n",
        "mahasiswa = Student(\"Dewi\", 20, \"MHS001\", \"Teknik Komputer\")\n",
        "print(\"-\" * 20)\n",
        "mahasiswa.perkenalkan_diri() #Panggil versi override di Student\n",
        "print(\"-\" * 20)\n",
        "mahasiswa.info_akademik() #Panggil metode khusus Student\n",
        "# Cek atribut yang diwarisi\n",
        "print(f\"\\nUsia mahasiswa {mahasiswa.nama}: {mahasiswa.usia}\") # Usia diwarisi dari Person\n",
        "\n"
      ],
      "metadata": {
        "colab": {
          "base_uri": "https://localhost:8080/"
        },
        "id": "L6jOFmTStS74",
        "outputId": "7c34fc00-a41c-4d04-d3d1-105a7e1f3209"
      },
      "execution_count": null,
      "outputs": [
        {
          "output_type": "stream",
          "name": "stdout",
          "text": [
            "(Memanggil __init__Person untuk 'Pak Anton')\n",
            "--------------------\n",
            "Halo, nama saya Pak Anton, usia saya 45 tahun.\n",
            "\n",
            "==============================\n",
            "\n",
            "(Memanggil __init__Student untuk 'Dewi')\n",
            "(Memanggil __init__Person untuk 'Dewi')\n",
            "(Inisialisasi atribut Student selesai untuk 'Dewi')\n",
            "--------------------\n",
            "Halo, nama saya Dewi, usia saya 20 tahun.\n",
            "--------------------\n",
            "ID Mahasiswa: MHS001\n",
            "Jurusan: Teknik Komputer\n",
            "\n",
            "Usia mahasiswa Dewi: 20\n"
          ]
        }
      ]
    },
    {
      "cell_type": "markdown",
      "source": [
        "##Praktikum 03: Method Overriding dan super()"
      ],
      "metadata": {
        "id": "iqmh0Gqg0SQS"
      }
    },
    {
      "cell_type": "code",
      "source": [
        "# Kelas Induk\n",
        "class Hewan:\n",
        "  def __init__(self, nama):\n",
        "    self.nama = nama\n",
        "\n",
        "  def bersuara(self):\n",
        "    print(f\"{self.nama} mengeluarkan suara generik.\")\n",
        "\n",
        "  def tampilkan_info(self):\n",
        "    print(f\"Ini adalah hewan bernama {self.nama}.\")\n",
        "\n",
        "# Kelas Anak\n",
        "class Kucing(Hewan):\n",
        "  def __init__(self, nama, ras):\n",
        "    super().__init__(nama) # Panggil ini induk\n",
        "    self.ras = ras\n",
        "\n",
        "# Method Overriding untuk bersuara\n",
        "  def bersuara(self):\n",
        "    print(f\"{self.nama} (Kucing) mengeong: Meow!\")\n",
        "# Method Overriding untuk tampilknan info, memanggil versi induk\n",
        "  def tampilkan_info(self):\n",
        "    super().tampilkan_info() # Panggil implementasi dari Hewan\n",
        "    print(f\"Ini adalah kucing ras {self.ras}.\") # Tambahkan info spesifik\n",
        "\n",
        "# --- Kode Utama ---\n",
        "if __name__ == \"__main__\":\n",
        "  hewan_umum = Hewan(\"Makhluk\")\n",
        "  kucing_persia = Kucing(\"Puspus\", \"Persia\")\n",
        "\n",
        "  print(\"Info Hewan Umum:\")\n",
        "  hewan_umum.tampilkan_info()\n",
        "  hewan_umum.bersuara()\n",
        "  print(\"-\" * 20)\n",
        "\n",
        "  print(\"Info Kucing Persia:\")\n",
        "  kucing_persia.tampilkan_info() # Akan memanggil versi Kucing\n",
        "  kucing_persia.bersuara() # Akan memanggil versi Kucing"
      ],
      "metadata": {
        "colab": {
          "base_uri": "https://localhost:8080/"
        },
        "id": "0KOUWyGU0bca",
        "outputId": "ce062df1-025a-4c6d-ddb0-3017ca5c09cc"
      },
      "execution_count": null,
      "outputs": [
        {
          "output_type": "stream",
          "name": "stdout",
          "text": [
            "Info Hewan Umum:\n",
            "Ini adalah hewan bernama Makhluk.\n",
            "Makhluk mengeluarkan suara generik.\n",
            "--------------------\n",
            "Info Kucing Persia:\n",
            "Ini adalah hewan bernama Puspus.\n",
            "Ini adalah kucing ras Persia.\n",
            "Puspus (Kucing) mengeong: Meow!\n"
          ]
        }
      ]
    },
    {
      "cell_type": "markdown",
      "source": [
        "## Praktikum 04: Multi-level Inheritance (Pewarisan Bertingkat)"
      ],
      "metadata": {
        "id": "yZD1ueHB9K2C"
      }
    },
    {
      "cell_type": "code",
      "source": [
        "# Kelas Induk Level 1\n",
        "class Organisme:\n",
        "  def __init__(self, nama):\n",
        "    self.nama = nama\n",
        "    print(f\"Organisme '{self.nama}' diciptakan.\")\n",
        "\n",
        "  def bernapas(self):\n",
        "    print(f\"{self.nama} sedang bernapas.\")\n",
        "\n",
        "# Kelas Anak Level 1 (mewarisi dari Organisme)\n",
        "class Hewan(Organisme):\n",
        "  def __init__(self, nama, jenis_makanan):\n",
        "    super().__init__(nama) # Panggil init Organisme\n",
        "    self.jenis_makanan = jenis_makanan\n",
        "    print(f\"Hewan '{self.nama}' adalah {self.jenis_makanan}.\")\n",
        "\n",
        "  def bergerak(self):\n",
        "    print(f\"{self.nama} sedang bergerak.\")\n",
        "\n",
        "# Kelas Anak Level 2 (mewarisi dari Hewan)\n",
        "class Mamalia(Hewan):\n",
        "  def __init__(self, nama, jenis_makanan, jumlah_kaki):\n",
        "    super().__init__(nama, jenis_makanan) # Panggil init Hewan\n",
        "    self.jumlah_kaki = jumlah_kaki\n",
        "    print(f\"Mamalia '{self.nama}' memiliki {self.jumlah_kaki} kaki.\")\n",
        "\n",
        "  def menyusui(self):\n",
        "    print(f\"{self.nama} sedang menyusui.\")\n",
        "\n",
        "# --- Kode Utama ---\n",
        "if __name__ == \"__main__\":\n",
        "   kucing = Mamalia(\"Kucing Persia\", \"Karnivora\", 4)\n",
        "   print(\"-\" * 20)\n",
        "\n",
        "# Memanggil metode dari kelas Mamalia\n",
        "kucing.menyusui()\n",
        "\n",
        "# Memanggil metode yang diwarisi dari kelas Hewan\n",
        "kucing.bergerak()\n",
        "print(f\"Jenis makanan: {kucing.jenis_makanan}\")\n",
        "\n",
        "# Memanggil metode yang diwarisi dari kelas Organisme\n",
        "kucing.bernapas()\n",
        "print(f\"Nama Organisme: {kucing.nama}\")"
      ],
      "metadata": {
        "colab": {
          "base_uri": "https://localhost:8080/"
        },
        "id": "qYwp7lmq9W0l",
        "outputId": "98fdd8fb-c558-4872-bd81-a2a3c1f6f9dd"
      },
      "execution_count": null,
      "outputs": [
        {
          "output_type": "stream",
          "name": "stdout",
          "text": [
            "Organisme 'Kucing Persia' diciptakan.\n",
            "Hewan 'Kucing Persia' adalah Karnivora.\n",
            "Mamalia 'Kucing Persia' memiliki 4 kaki.\n",
            "--------------------\n",
            "Kucing Persia sedang menyusui.\n",
            "Kucing Persia sedang bergerak.\n",
            "Jenis makanan: Karnivora\n",
            "Kucing Persia sedang bernapas.\n",
            "Nama Organisme: Kucing Persia\n"
          ]
        }
      ]
    },
    {
      "cell_type": "markdown",
      "source": [
        "## Praktikum 05: Hierarchical Inheritance"
      ],
      "metadata": {
        "id": "x87wWgrzCopa"
      }
    },
    {
      "cell_type": "code",
      "source": [
        "!apt-get install -y locales\n",
        "!locale-gen id_ID.UTF-8\n",
        "!update-locale"
      ],
      "metadata": {
        "colab": {
          "base_uri": "https://localhost:8080/"
        },
        "id": "lvhZE3mBC25l",
        "outputId": "0d1b9c50-f95a-444d-e0f7-b9fb2a5ca2b6"
      },
      "execution_count": null,
      "outputs": [
        {
          "output_type": "stream",
          "name": "stdout",
          "text": [
            "Reading package lists... Done\n",
            "Building dependency tree... Done\n",
            "Reading state information... Done\n",
            "locales is already the newest version (2.35-0ubuntu3.9).\n",
            "0 upgraded, 0 newly installed, 0 to remove and 34 not upgraded.\n",
            "Generating locales (this might take a while)...\n",
            "  id_ID.UTF-8... done\n",
            "Generation complete.\n"
          ]
        }
      ]
    },
    {
      "cell_type": "code",
      "source": [
        "import locale\n",
        "\n",
        "# Set locale ke Indonesia untuk format mata uang\n",
        "try:\n",
        "  locale.setlocale(locale.LC_ALL, 'id_ID.UTF-8')\n",
        "except locale.Error:\n",
        "  print(\"Locale id_ID.UTF-8 tidak tersedia, menggunakan locale default.\")\n",
        "\n",
        "# Fungsi helper untuk format mata uang\n",
        "def format_rupiah(angka):\n",
        "  return locale.currency(angka, grouping=True, symbol='Rp ')\n",
        "\n",
        "# Kelas Induk\n",
        "class Pegawai:\n",
        "  def __init__(self, nama, id_pegawai, gaji_pokok):\n",
        "    self.nama = nama\n",
        "    self.id_pegawai = id_pegawai\n",
        "    self.gaji_pokok = gaji_pokok\n",
        "\n",
        "  def hitung_gaji(self):\n",
        "    # Gaji dasar, bisa di-override\n",
        "    return self.gaji_pokok\n",
        "\n",
        "  def tampilkan_info(self):\n",
        "    print(f\"ID: {self.id_pegawai}, Nama: {self.nama}\")\n",
        "    print(f\" Gaji Pokok: {format_rupiah(self.gaji_pokok)}\")\n",
        "\n",
        "# Kelas Anak 1\n",
        "class Manager(Pegawai):\n",
        "  def __init__(self, nama, id_pegawai, gaji_pokok, tunjangan_jabatan):\n",
        "    super().__init__(nama, id_pegawai, gaji_pokok)\n",
        "    self.tunjangan_jabatan = tunjangan_jabatan\n",
        "\n",
        "# Override hitung_gaji\n",
        "  def hitung_gaji(self):\n",
        "    gaji_total = super().hitung_gaji() + self.tunjangan_jabatan\n",
        "    return gaji_total\n",
        "\n",
        "# Override tampilkan_info (memanggil versi induk)\n",
        "  def tampilkan_info(self):\n",
        "    print(\"---Info Manager---\")\n",
        "    super().tampilkan_info() # Panggil info dasar dari pegawai\n",
        "    print(f\" Tunjangan Jabatan: {format_rupiah(self.tunjangan_jabatan)}\")\n",
        "    print(f\" Total Gaji: {format_rupiah(self.hitung_gaji())}\")\n",
        "\n",
        "#  Kelas Anak 2\n",
        "class StafTeknis(Pegawai):\n",
        "  def __init__(self, nama, id_pegawai, gaji_pokok, keahlian, bonus_keahlian):\n",
        "    super().__init__(nama, id_pegawai, gaji_pokok)\n",
        "    self.keahlian = keahlian\n",
        "    self.bonus_keahlian = bonus_keahlian\n",
        "\n",
        "# Override hitung_gaji\n",
        "  def hitung_gaji(self):\n",
        "    gaji_total = super().hitung_gaji() + self.bonus_keahlian\n",
        "    return gaji_total\n",
        "\n",
        "# Override tampilkan_info (memanggil versi induk)\n",
        "  def tampilkan_info(self):\n",
        "    print(\"--- Info Staf Tenis ---\")\n",
        "    super().tampilkan_info() # Panggil info dasar dari pegawai\n",
        "    print(f\" Keahlian: {self.keahlian}\")\n",
        "    print(f\" Bonus Keahlian: {format_rupiah(self.bonus_keahlian)}\")\n",
        "    print(f\" Total Gaji: {format_rupiah(self.hitung_gaji())}\")\n",
        "\n",
        "# --- Kode Utama ---\n",
        "if __name__ == \"__main__\":\n",
        "  manager1 = Manager(\"Budi Santoso\", \"M001\", 10000000, 500000)\n",
        "  staf1 = StafTeknis(\"Citra Lestari\", \"S001\", 7000000, \"Phyton Programming\", 1500000)\n",
        "  pegawai_baru = Pegawai(\"Rian\", \"P005\", 5000000) # Pegawai biasa\n",
        "\n",
        "  print(\"Menampilkan Informasi Pegawai:\")\n",
        "  manager1.tampilkan_info()\n",
        "  print(\"-\" * 30)\n",
        "  staf1.tampilkan_info()\n",
        "  print(\"-\" * 30)\n",
        "\n",
        "  print(\"---Info Pegawai Baru---\")\n",
        "  pegawai_baru.tampilkan_info()\n",
        "  print(f\" Total Gaji: {format_rupiah(pegawai_baru.hitung_gaji())}\") #Memanggil versi Pegawai\n",
        "  print(\"-\" * 30)\n"
      ],
      "metadata": {
        "id": "I4JDHatjDsYT",
        "colab": {
          "base_uri": "https://localhost:8080/"
        },
        "outputId": "3b9c4e04-6536-46c6-cd01-40525586abcc"
      },
      "execution_count": null,
      "outputs": [
        {
          "output_type": "stream",
          "name": "stdout",
          "text": [
            "Menampilkan Informasi Pegawai:\n",
            "---Info Manager---\n",
            "ID: M001, Nama: Budi Santoso\n",
            " Gaji Pokok: Rp10.000.000,00\n",
            " Tunjangan Jabatan: Rp500.000,00\n",
            " Total Gaji: Rp10.500.000,00\n",
            "------------------------------\n",
            "--- Info Staf Tenis ---\n",
            "ID: S001, Nama: Citra Lestari\n",
            " Gaji Pokok: Rp7.000.000,00\n",
            " Keahlian: Phyton Programming\n",
            " Bonus Keahlian: Rp1.500.000,00\n",
            " Total Gaji: Rp8.500.000,00\n",
            "------------------------------\n",
            "---Info Pegawai Baru---\n",
            "ID: P005, Nama: Rian\n",
            " Gaji Pokok: Rp5.000.000,00\n",
            " Total Gaji: Rp5.000.000,00\n",
            "------------------------------\n"
          ]
        }
      ]
    },
    {
      "cell_type": "markdown",
      "source": [
        "## Praktikum 06: Memeriksa Tipe Instance dengan instance()"
      ],
      "metadata": {
        "id": "AlK75jAb5456"
      }
    },
    {
      "cell_type": "code",
      "source": [
        "class BentukGeometri:\n",
        "  def __init__(self, nama_bentuk):\n",
        "    self.nama = nama_bentuk\n",
        "  def tampilkan_nama(self):\n",
        "    print(f\"Ini adalah bentuk: {self.nama}\")\n",
        "  def hitung_luas(self):\n",
        "    print(f\"Luas {self.nama} tidak dapat dihitung (generik).\")\n",
        "\n",
        "class PersegiPanjang(BentukGeometri):\n",
        "  def __init__(self, panjang, lebar):\n",
        "    super().__init__(\"Persegi Panjang\")\n",
        "    self.panjang = panjang\n",
        "    self.lebar = lebar\n",
        "  def hitung_luas(self):\n",
        "    luas = self.panjang * self.lebar\n",
        "    print(f\"Luas {self.nama}: {luas}\")\n",
        "\n",
        "class Segitiga(BentukGeometri):\n",
        "  def __init__(self, alas, tinggi):\n",
        "    super().__init__(\"Segitiga\")\n",
        "    self.alas = alas\n",
        "    self.tinggi = tinggi\n",
        "  def hitung_luas(self):\n",
        "    luas = 0.5 * self.alas * self.tinggi\n",
        "    print(f\"Luas {self.nama}: {luas}\")\n",
        "\n",
        "def proses_bentuk(bentuk):\n",
        "    print(f\"\\nMemproses objek: {type(bentuk)}\")\n",
        "\n",
        "    if isinstance(bentuk, BentukGeometri):\n",
        "        bentuk.tampilkan_nama()\n",
        "        print(\"Objek ini adalah instance dari BentukGeometri (atau turunannya).\")\n",
        "\n",
        "    if isinstance(bentuk, PersegiPanjang):\n",
        "        print(\"-> Objek ini juga instance dari Persegi Panjang.\")\n",
        "    elif isinstance(bentuk, Segitiga):\n",
        "        print(\"-> Objek ini juga instance dari Segitiga.\")\n",
        "    else:\n",
        "        print(\"-> Objek ini BUKAN instance dari BentukGeometri.\")\n",
        "\n",
        "    if isinstance(bentuk, str):\n",
        "        print(\"Objek ini adalah string.\")\n",
        "\n",
        "# ---Kode Utama---\n",
        "if __name__ == \"__main__\":\n",
        "  pp = PersegiPanjang(4,3)\n",
        "  seg = Segitiga(5,2)\n",
        "  bg = BentukGeometri(\"Lingkaran\") # Contoh lain\n",
        "  teks = \"Ini string\"\n",
        "\n",
        "  daftar_objek = [pp, seg, bg, teks]\n",
        "\n",
        "  for obj in daftar_objek:\n",
        "    proses_bentuk(obj)"
      ],
      "metadata": {
        "colab": {
          "base_uri": "https://localhost:8080/"
        },
        "id": "VB6wydTyfWaK",
        "outputId": "5aaab8e6-05c0-4415-dcaf-826fadcf4aca"
      },
      "execution_count": null,
      "outputs": [
        {
          "output_type": "stream",
          "name": "stdout",
          "text": [
            "\n",
            "Memproses objek: <class '__main__.PersegiPanjang'>\n",
            "Ini adalah bentuk: Persegi Panjang\n",
            "Objek ini adalah instance dari BentukGeometri (atau turunannya).\n",
            "-> Objek ini juga instance dari Persegi Panjang.\n",
            "\n",
            "Memproses objek: <class '__main__.Segitiga'>\n",
            "Ini adalah bentuk: Segitiga\n",
            "Objek ini adalah instance dari BentukGeometri (atau turunannya).\n",
            "-> Objek ini juga instance dari Segitiga.\n",
            "\n",
            "Memproses objek: <class '__main__.BentukGeometri'>\n",
            "Ini adalah bentuk: Lingkaran\n",
            "Objek ini adalah instance dari BentukGeometri (atau turunannya).\n",
            "-> Objek ini BUKAN instance dari BentukGeometri.\n",
            "\n",
            "Memproses objek: <class 'str'>\n",
            "-> Objek ini BUKAN instance dari BentukGeometri.\n",
            "Objek ini adalah string.\n"
          ]
        }
      ]
    },
    {
      "cell_type": "markdown",
      "source": [
        "## Penugasan\n",
        "\n",
        "Buat Program Hierarki Kelas Mahasiswa: Implementasikan hierarki kelas dalam Python"
      ],
      "metadata": {
        "id": "Vq6mBtq4HlRu"
      }
    },
    {
      "cell_type": "code",
      "source": [
        "# Kelas Induk (Mahasiswa)\n",
        "class Mahasiswa:\n",
        "  def __init__(self, nama, nim, ipk):\n",
        "    self.nama = nama\n",
        "    self.nim = nim\n",
        "    self.ipk = ipk\n",
        "\n",
        "  def tampilkan_info(self):\n",
        "    print(f\"Nama: {self.nama}\")\n",
        "    print(f\"NIM: {self.nim}\")\n",
        "    print(f\"IPK: {self.ipk}\")\n",
        "\n",
        "  def hitung_predikat(self):\n",
        "    if self.ipk >= 3.5:\n",
        "      print(\"Predikat: Dengan Pujian\")\n",
        "    elif self.ipk >= 3.0:\n",
        "      print(\"Predikat: Sangat Memuaskan\")\n",
        "    elif self.ipk >= 2.5:\n",
        "      print(\"Predikat: Memuaskan\")\n",
        "    elif self.ipk >= 2.0:\n",
        "      print(\"Predikat: Cukup\")\n",
        "    else:\n",
        "      print(\"Predikat: Kurang\")\n",
        "\n",
        "# Kelas Anak 1\n",
        "class MahasiswaSarjana(Mahasiswa):\n",
        "  def __init__(self, nama, nim, ipk, semester, sks_lulus):\n",
        "    super().__init__(nama, nim, ipk)\n",
        "    self.semester = semester\n",
        "    self.sks_lulus = sks_lulus\n",
        "\n",
        "  def tampilkan_info(self):\n",
        "    super().tampilkan_info()\n",
        "    print(f\"Semester: {self.semester}\")\n",
        "    print(f\"SKS Lulus: {self.sks_lulus}\")\n",
        "\n",
        "# Kelas Anak 2\n",
        "class MahasiswaMagister(Mahasiswa):\n",
        "  def __init__(self, nama, nim, ipk, judul_tesis, nama_pembimbing):\n",
        "    super().__init__(nama, nim, ipk)\n",
        "    self.judul_tesis = judul_tesis\n",
        "    self.nama_pembimbing = nama_pembimbing\n",
        "\n",
        "  def tampilkan_info(self):\n",
        "    super().tampilkan_info()\n",
        "    print(f\"Judul Tesis: {self.judul_tesis}\")\n",
        "    print(f\"Pembimbing: {self.nama_pembimbing}\")\n",
        "\n",
        "  def hitung_predikat(self):\n",
        "    if self.ipk >= 3.7:\n",
        "      print(\"Predikat: Dengan Pujian\")\n",
        "    elif self.ipk >= 3.3:\n",
        "      print(\"Predikat: Sangat Memuaskan\")\n",
        "    elif self.ipk >= 2.75:\n",
        "      print(\"Predikat: Memuaskan\")\n",
        "    else:\n",
        "      print(\"Predikat: Cukup\")\n",
        "\n",
        "# Output\n",
        "print(\"=== Mahasiswa Sarjana ===\")\n",
        "mhs_sarjana = MahasiswaSarjana(\"Hafizh\", \"4.33.24.1.10\", 4.0, 8, 120)\n",
        "mhs_sarjana.tampilkan_info()\n",
        "mhs_sarjana.hitung_predikat()\n",
        "\n",
        "print(\"\\n=== Mahasiswa Magister ===\")\n",
        "mhs_magister = MahasiswaMagister(\"Hafizh\", \"4.33.24.1.10\", 3.65, \"Pengembangan Ai untuk Masalah Ekosistem Laut\", \"Bapak Ir. Prayitno\")\n",
        "mhs_magister.tampilkan_info()\n",
        "mhs_magister.hitung_predikat()\n",
        "\n"
      ],
      "metadata": {
        "colab": {
          "base_uri": "https://localhost:8080/"
        },
        "id": "50yLUpKKHo5-",
        "outputId": "ed8496f6-631c-41e7-8969-8a87ca679da1"
      },
      "execution_count": null,
      "outputs": [
        {
          "output_type": "stream",
          "name": "stdout",
          "text": [
            "=== Mahasiswa Sarjana ===\n",
            "Nama: Hafizh\n",
            "NIM: 4.33.24.1.10\n",
            "IPK: 4.0\n",
            "Semester: 8\n",
            "SKS Lulus: 120\n",
            "Predikat: Dengan Pujian\n",
            "\n",
            "=== Mahasiswa Magister ===\n",
            "Nama: Hafizh\n",
            "NIM: 4.33.24.1.10\n",
            "IPK: 3.65\n",
            "Judul Tesis: Pengembangan Ai untuk Masalah Ekosistem Laut\n",
            "Pembimbing: Bapak Ir. Prayitno\n",
            "Predikat: Sangat Memuaskan\n"
          ]
        }
      ]
    }
  ]
}
