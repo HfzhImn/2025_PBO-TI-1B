{
  "nbformat": 4,
  "nbformat_minor": 0,
  "metadata": {
    "colab": {
      "provenance": [],
      "toc_visible": true,
      "authorship_tag": "ABX9TyP1sShswmo071bAqGpVzzcU",
      "include_colab_link": true
    },
    "kernelspec": {
      "name": "python3",
      "display_name": "Python 3"
    },
    "language_info": {
      "name": "python"
    }
  },
  "cells": [
    {
      "cell_type": "markdown",
      "metadata": {
        "id": "view-in-github",
        "colab_type": "text"
      },
      "source": [
        "<a href=\"https://colab.research.google.com/github/HfzhImn/2025_PBO-TI-1B/blob/main/JOBSHEET%2005%3A%20POLIMORFISME%20DAN%20MEMAHAMI%20OVERLOADING%20SERTA%20OVERRIDING.ipynb\" target=\"_parent\"><img src=\"https://colab.research.google.com/assets/colab-badge.svg\" alt=\"Open In Colab\"/></a>"
      ]
    },
    {
      "cell_type": "markdown",
      "source": [
        "#JOBSHEET 05: POLIMORFISME DAN MEMAHAMI  OVERLOADING/OVERRIDING\n"
      ],
      "metadata": {
        "id": "pR5vawibjmh9"
      }
    },
    {
      "cell_type": "markdown",
      "source": [
        "##Praktikum 01: Polimorfisme dengan Inheritance dan Overriding\n",
        "Tujuan: Mengamati bagaimana objek dari kelas anak yang berbeda merespons pemanggilan  metode yang sama (yang di-override) dengan cara yang berbeda, menunjukkan konsep  polimorfisme"
      ],
      "metadata": {
        "id": "WpMbE1IWjuEX"
      }
    },
    {
      "cell_type": "code",
      "source": [
        "\n",
        "# Kelas Induk\n",
        "class Burung:\n",
        "    def __init__(self, nama):\n",
        "      self.nama = nama\n",
        "\n",
        "    def terbang(self):\n",
        "      print(f\"{self.nama} terbang dengan cara umum.\")\n",
        "\n",
        "    def bersuara(self):\n",
        "      print(f\"{self.nama} mengeluarkan suara burung\")\n",
        "\n",
        "# Kelas Anak 1\n",
        "class Elang(Burung):\n",
        "    def __init__(self, nama, rentang_sayap):\n",
        "      super().__init__(nama)\n",
        "      self.rentang_sayap = rentang_sayap\n",
        "\n",
        "# Override\n",
        "    def terbang(self):\n",
        "      print(f\"{self.nama} terbang tinggi melayang di angkasa.\")\n",
        "# Override\n",
        "    def bersuara(self):\n",
        "      print(f\"{self.nama} berteriak nyaring!\")\n",
        "\n",
        "# Kelas Anak 2\n",
        "class Pipit(Burung):\n",
        "    def __init__(self, nama, warna_bulu):\n",
        "      super().__init__(nama)\n",
        "      self.warna_bulu = warna_bulu\n",
        "\n",
        "# Override\n",
        "    def terbang(self):\n",
        "      print(f\"{self.nama} terbang cepat di antara pepohonan.\")\n",
        "# Overrride\n",
        "    def bersuara(self):\n",
        "      print(f\"{self.nama} berkicau merdu: Cit cit!\")\n",
        "\n",
        "# Fungsi yang memanfaatkan polimorfisme, dipindahkan keluar dari kelas Pipit\n",
        "def demonstrasi_aksi_burung(daftar_burung):\n",
        "    print(\"\\nAksi Burung:\")\n",
        "    for burung in daftar_burung:\n",
        "        print(f\"-- Aksi untuk {burung.nama} --\")\n",
        "# Panggilan metode yang sama, tapi perilaku berbeda tergantung objek\n",
        "        burung.terbang()\n",
        "        burung.bersuara()\n",
        "        print(\"-\" * 15)\n",
        "\n",
        "\n",
        "# --- Kode Utama ---\n",
        "if __name__ == \"__main__\":\n",
        "  elang_jawa = Elang(\"Elang Jawa\", 1.5)\n",
        "  pipit_gereja = Pipit(\"Pipit Gereja\", \"Coklat\")\n",
        "  burung_aneh = Burung(\"Burung Misterius\") # Objek dari kelas induk\n",
        "  koleksi_burung = [elang_jawa, pipit_gereja, burung_aneh]\n",
        "  demonstrasi_aksi_burung(koleksi_burung)"
      ],
      "metadata": {
        "colab": {
          "base_uri": "https://localhost:8080/"
        },
        "id": "J-f5DIErkbJx",
        "outputId": "43d658d5-953c-41eb-c059-747a00439326"
      },
      "execution_count": null,
      "outputs": [
        {
          "output_type": "stream",
          "name": "stdout",
          "text": [
            "\n",
            "Aksi Burung:\n",
            "-- Aksi untuk Elang Jawa --\n",
            "Elang Jawa terbang tinggi melayang di angkasa.\n",
            "Elang Jawa berteriak nyaring!\n",
            "---------------\n",
            "-- Aksi untuk Pipit Gereja --\n",
            "Pipit Gereja terbang cepat di antara pepohonan.\n",
            "Pipit Gereja berkicau merdu: Cit cit!\n",
            "---------------\n",
            "-- Aksi untuk Burung Misterius --\n",
            "Burung Misterius terbang dengan cara umum.\n",
            "Burung Misterius mengeluarkan suara burung\n",
            "---------------\n"
          ]
        }
      ]
    },
    {
      "cell_type": "markdown",
      "source": [
        "##Praktikum 02: Polimorfisme dengan Duck Typing\n",
        "Tujuan: Menunjukkan bagaimana Python dapat menerapkan polimorfisme pada objek yang  tidak terikat oleh hierarki pewarisan yang sama, selama objek tersebut memiliki metode yang  dibutuhkan (\"duck typing\")."
      ],
      "metadata": {
        "id": "YmlrSmBtrApG"
      }
    },
    {
      "cell_type": "code",
      "source": [
        "class Kucing:\n",
        "  def bersuara(self):\n",
        "    print(\"Kucing: Meow!\")\n",
        "\n",
        "class Anjing:\n",
        "  def bersuara(self):\n",
        "    print(\"Anjing: Guk guk!\")\n",
        "\n",
        "class Bebek:\n",
        "  def bersuara(self):\n",
        "    print(\"Bebek: Kwek kwek!\")\n",
        "\n",
        "class Mobil: # Kelas ini TIDAK punya metode bersuara()\n",
        "  def jalankan(self):\n",
        "    print(\"Mobil: Brummmm!\")\n",
        "\n",
        "# Fungsi ini tidak peduli tipe objeknya,\n",
        "# asal punya metode bersuara()\n",
        "def buat_suara(objek_yang_bisa_bersuara):\n",
        "  try:\n",
        "# Memanggil metode 'bersuara' jika ada\n",
        "    objek_yang_bisa_bersuara.bersuara()\n",
        "  except AttributeError:\n",
        "# Menangani jika objek tidak punya metode 'bersuara'\n",
        "    print(f\"Objek {type(objek_yang_bisa_bersuara).__name__} tidak bisa bersuara.\")\n",
        "\n",
        "# --- Kode Utama ---\n",
        "if __name__ == \"__main__\":\n",
        "  kucing1 = Kucing()\n",
        "  anjing1 = Anjing()\n",
        "  bebek1 = Bebek()\n",
        "  mobil1 = Mobil()\n",
        "\n",
        "  daftar_objek = [kucing1, anjing1, bebek1, mobil1]\n",
        "\n",
        "  print(\"Demonstrasi Duck Typing:\")\n",
        "  for item in daftar_objek:\n",
        "    buat_suara(item) # Fungsi polimorfik via duck typing"
      ],
      "metadata": {
        "colab": {
          "base_uri": "https://localhost:8080/"
        },
        "id": "DAlngSaprMMK",
        "outputId": "a994304d-51c6-4407-d6fe-41e08b503157"
      },
      "execution_count": null,
      "outputs": [
        {
          "output_type": "stream",
          "name": "stdout",
          "text": [
            "Demonstrasi Duck Typing:\n",
            "Kucing: Meow!\n",
            "Anjing: Guk guk!\n",
            "Bebek: Kwek kwek!\n",
            "Objek Mobil tidak bisa bersuara.\n"
          ]
        }
      ]
    },
    {
      "cell_type": "markdown",
      "source": [
        "##Praktikum 03: Simulasi Overloading dalam Metode Kelas dengan *args\n",
        "Tujuan: Mendemonstrasikan bagaimana sebuah metode di dalam kelas dapat dirancang  untuk menerima jumlah argumen yang bervariasi menggunakan *args, sehingga meniru  perilaku overloading."
      ],
      "metadata": {
        "id": "jZgLG3Wmvl-J"
      }
    },
    {
      "cell_type": "code",
      "source": [
        "class KalkulatorSederhana:\n",
        "    def __init__(self, nama=\"Kalkulator\"):\n",
        "      self.nama = nama\n",
        "      print(f\"{self.nama} siap digunakan.\")\n",
        "\n",
        "    def tambah(self, *args):\n",
        "      \"\"\"\n",
        "      Metode ini menjumlahkan semua argumen angka yang diberikan.\n",
        "      Menerima sejumlah argumen posisi menggunakan *args.\n",
        "      \"\"\"\n",
        "      print(f\"\\nMemanggil metode tambah dengan argumen: {args}\")\n",
        "      if not args:\n",
        "       print(\"Tidak ada angka untuk dijumlahkan.\")\n",
        "       return 0 # Atau bisa juga Note atau raise error 15:\n",
        "      total = 0\n",
        "      valid_input = True\n",
        "      for angka in args:\n",
        "        # Melakukan pengecekan tipe sederhana\n",
        "        if isinstance(angka, (int, float)):\n",
        "          total += angka\n",
        "        else:\n",
        "          print(f\"Peringatan: Argumen '{angka}' bukan angka dan akan diabaikan.\")\n",
        "          valid_input = False\n",
        "\n",
        "      if valid_input:\n",
        "        print(f\"Hasil penjumlahan: {total}\")\n",
        "      else:\n",
        "        print(f\"Hasil penjumlahan (dengan beberapa input diabaikan): {total}\")\n",
        "      return total\n",
        "\n",
        "# --- Kode Utama ---\n",
        "if __name__ == \"__main__\":\n",
        "  calc = KalkulatorSederhana(\"Calc-01\")\n",
        "\n",
        "# Memanggil metode 'tambah' dengan jumlah argumen berbeda\n",
        "print(\"\\n--- Percobaan Penjumlahan ---\")\n",
        "calc.tambah(5,10)\n",
        "calc.tambah(2, 3, 5, 10)\n",
        "calc.tambah(100)\n",
        "calc.tambah() # Tanpa argumen\n",
        "calc.tambah(1, 2, \"tiga\", 4, 5.5) # Dengan input non-angka"
      ],
      "metadata": {
        "colab": {
          "base_uri": "https://localhost:8080/"
        },
        "id": "IkxlNsTrvsBm",
        "outputId": "cadd8ffc-e0d5-4bc6-8136-c7a6cde30d34"
      },
      "execution_count": null,
      "outputs": [
        {
          "output_type": "stream",
          "name": "stdout",
          "text": [
            "Calc-01 siap digunakan.\n",
            "\n",
            "--- Percobaan Penjumlahan ---\n",
            "\n",
            "Memanggil metode tambah dengan argumen: (5, 10)\n",
            "Hasil penjumlahan: 15\n",
            "\n",
            "Memanggil metode tambah dengan argumen: (2, 3, 5, 10)\n",
            "Hasil penjumlahan: 20\n",
            "\n",
            "Memanggil metode tambah dengan argumen: (100,)\n",
            "Hasil penjumlahan: 100\n",
            "\n",
            "Memanggil metode tambah dengan argumen: ()\n",
            "Tidak ada angka untuk dijumlahkan.\n",
            "\n",
            "Memanggil metode tambah dengan argumen: (1, 2, 'tiga', 4, 5.5)\n",
            "Peringatan: Argumen 'tiga' bukan angka dan akan diabaikan.\n",
            "Hasil penjumlahan (dengan beberapa input diabaikan): 12.5\n"
          ]
        },
        {
          "output_type": "execute_result",
          "data": {
            "text/plain": [
              "12.5"
            ]
          },
          "metadata": {},
          "execution_count": 18
        }
      ]
    },
    {
      "cell_type": "markdown",
      "source": [
        "##Praktikum 04: Simulasi Overloading dalam Metode Kelas dengan *args dan **kwargs\n",
        "Tujuan: Menggunakan *args dan **kwargs di dalam sebuah metode kelas untuk menerima  jumlah argumen posisi dan kata kunci yang fleksibel, meniru perilaku metode yang bisa  dipanggil dengan cara berbeda."
      ],
      "metadata": {
        "id": "gbCxxG3n04vR"
      }
    },
    {
      "cell_type": "code",
      "source": [
        "class DataProcessor:\n",
        "  def __init__(self, processor_id):\n",
        "    self.processor_id = processor_id\n",
        "    print(f\"Data Processor {self.processor_id} siap.\")\n",
        "\n",
        "  def process(self, *args, **kwargs):\n",
        "    \"\"\"\n",
        "    Metode ini memproses data dengan argumen posisi (*args)\n",
        "    dan kata kunci (*kwargs) yang jumlahnya variabel.\n",
        "    \"\"\"\n",
        "    print(f\"\\n--- {self.processor_id} Memproses Data ---\")\n",
        "    # Memproses argumen posisi (*args -> tuple)\n",
        "    if args:\n",
        "      print(\"Argumen Posisi Diterima:\")\n",
        "      for i, arg in enumerate(args):\n",
        "        print(f\" args[{i}]: {arg} (tipe: {type(arg).__name__})\")\n",
        "      else:\n",
        "        print(\"Tidak ada argumen posisi.\")\n",
        "\n",
        "     # Memproses argumen kata kunci (**Kwargs -> dict)\n",
        "      if kwargs:\n",
        "       print(\"Argumen Kata Kunci Diterima:\")\n",
        "       for kunci, nilai in kwargs.items():\n",
        "        print(f\" {kunci}: {nilai} (tipe: {type(nilai).__name__})\")\n",
        "       else:\n",
        "        print(\"Tidak ada argumen kata kunci.\")\n",
        "        print(\"---------------------------------\")\n",
        "\n",
        "# --- Kode Utama ---\n",
        "if __name__ == \"__main__\":\n",
        "  # Membuat instance dari kelas\n",
        "  processor1 = DataProcessor(\"DP-001\")\n",
        "\n",
        "  # Memanggil metode 'process' dengan berbagai cara\n",
        "  print(\"\\nPanggilan 1: Tanpa argumen tambahan\")\n",
        "  processor1.process()\n",
        "\n",
        "  print(\"\\nPanggilan 2: Hanya argumen posisi\")\n",
        "  processor1.process(100, \"Status OK\", 99.9, False)\n",
        "\n",
        "  print(\"\\nPanggilan 3: Hanya argumen kata kunci\")\n",
        "  processor1.process(user=\"admin\", level=5, mode=\"verbose\")\n",
        "  print(\"\\nPanggilan 4: Kombinasi argumen posisi dan kata kunci\")\n",
        "  processor1.process(\"Task-A\", \"Task-B\", status=\"Running\", priority=\"High\", thread_id=54321)\n",
        "\n",
        "  #Panggilan dengan list dan dictionary sebagai argumen posisi\n",
        "  print(\"\\nPanggilan 5: Argumen posisi kompleks\")\n",
        "  list_ids = [\"A1\", \"B2\", \"C3\"]\n",
        "  dict_params = {\"timeout\": 30, \"retry\": 3}\n",
        "  processor1.process(list_ids, dict_params, owner=\"system\", enabled=True)"
      ],
      "metadata": {
        "colab": {
          "base_uri": "https://localhost:8080/"
        },
        "id": "rGC4Djrl1ANo",
        "outputId": "ceb86671-c2c6-4b42-e472-b9f8ea89b830"
      },
      "execution_count": null,
      "outputs": [
        {
          "output_type": "stream",
          "name": "stdout",
          "text": [
            "Data Processor DP-001 siap.\n",
            "\n",
            "Panggilan 1: Tanpa argumen tambahan\n",
            "\n",
            "--- DP-001 Memproses Data ---\n",
            "\n",
            "Panggilan 2: Hanya argumen posisi\n",
            "\n",
            "--- DP-001 Memproses Data ---\n",
            "Argumen Posisi Diterima:\n",
            " args[0]: 100 (tipe: int)\n",
            " args[1]: Status OK (tipe: str)\n",
            " args[2]: 99.9 (tipe: float)\n",
            " args[3]: False (tipe: bool)\n",
            "Tidak ada argumen posisi.\n",
            "\n",
            "Panggilan 3: Hanya argumen kata kunci\n",
            "\n",
            "--- DP-001 Memproses Data ---\n",
            "\n",
            "Panggilan 4: Kombinasi argumen posisi dan kata kunci\n",
            "\n",
            "--- DP-001 Memproses Data ---\n",
            "Argumen Posisi Diterima:\n",
            " args[0]: Task-A (tipe: str)\n",
            " args[1]: Task-B (tipe: str)\n",
            "Tidak ada argumen posisi.\n",
            "Argumen Kata Kunci Diterima:\n",
            " status: Running (tipe: str)\n",
            " priority: High (tipe: str)\n",
            " thread_id: 54321 (tipe: int)\n",
            "Tidak ada argumen kata kunci.\n",
            "---------------------------------\n",
            "\n",
            "Panggilan 5: Argumen posisi kompleks\n",
            "\n",
            "--- DP-001 Memproses Data ---\n",
            "Argumen Posisi Diterima:\n",
            " args[0]: ['A1', 'B2', 'C3'] (tipe: list)\n",
            " args[1]: {'timeout': 30, 'retry': 3} (tipe: dict)\n",
            "Tidak ada argumen posisi.\n",
            "Argumen Kata Kunci Diterima:\n",
            " owner: system (tipe: str)\n",
            " enabled: True (tipe: bool)\n",
            "Tidak ada argumen kata kunci.\n",
            "---------------------------------\n"
          ]
        }
      ]
    },
    {
      "cell_type": "markdown",
      "source": [
        "##Praktikum 05: Kombinasi Polimorfisme (Inheritance & Duck Typing)\n",
        "Tujuan: Menunjukkan bagaimana sebuah fungsi dapat bekerja secara polimorfik dengan  objek-objek dari hierarki inheritance yang sama dan objek dari kelas lain yang tidak terkait,  selama semuanya menyediakan metode yang dibutuhkan."
      ],
      "metadata": {
        "id": "3GacaMD-6x6v"
      }
    },
    {
      "cell_type": "code",
      "source": [
        "import math\n",
        "\n",
        "# --- Definisi Kelas dari Hierarki Inherintance ---\n",
        "class Bentuk:\n",
        "# Metode ini bisa dianggap sebagai 'template' atau interface dasar\n",
        "    def nama_bentuk(self):\n",
        "        return \"Bentuk Generik\"\n",
        "\n",
        "# Metode ini wajib di-override oleh subclass\n",
        "    def hitung_luas(self):\n",
        "        raise NotImplementedError(\"Subclass harus mengimplementasikan metode ini.\")\n",
        "\n",
        "class Lingkaran(Bentuk):\n",
        "    def __init__(self, radius):\n",
        "        self.radius = radius\n",
        "\n",
        "# Override\n",
        "    def nama_bentuk(self):\n",
        "        return \"Lingkaran\"\n",
        "\n",
        "# Override\n",
        "    def hitung_luas(self):\n",
        "        return math.pi * (self.radius ** 2)\n",
        "\n",
        "class Persegi(Bentuk):\n",
        "    def __init__(self, sisi):\n",
        "        self.sisi = sisi\n",
        "\n",
        "# Override\n",
        "    def nama_bentuk(self):\n",
        "        return \"Persegi\"\n",
        "\n",
        "# Override\n",
        "    def hitung_luas(self):\n",
        "        return self.sisi * self.sisi\n",
        "\n",
        "# --- Definisi Kelas Lain (Tidak Terkait Inheritance dengan Bentuk) ---\n",
        "class TaplakMeja:\n",
        "    def __init__(self, panjang, lebar):\n",
        "        self.panjang = panjang\n",
        "        self.lebar = lebar\n",
        "\n",
        "# Metode dengan nama sama -> 'hitung_luas'\n",
        "# Ini memungkinkan TaplakMeja bekerja dengan fungsi polimorfik di bawah\n",
        "    def hitung_luas(self):\n",
        "        return self.panjang * self.lebar\n",
        "\n",
        "# Metode yang berbeda, tidak ada di kelas Bentuk\n",
        "    def deskripsi(self):\n",
        "       return f\"Taplak Meja {self.panjang}x{self.lebar}\"\n",
        "\n",
        "# --- Fungsi Polimorfik ---\n",
        "def tampilkan_info_luas(objek_dengan_luas):\n",
        "    print(\"-\" * 20)\n",
        "    try:\n",
        "        # Mencoba memanggil hitung_luas() - inti polimorfisme\n",
        "        luas = objek_dengan_luas.hitung_luas()\n",
        "\n",
        "        # Mencoba mendapatkan nama jika ada (duck typing tambahan)\n",
        "        try:\n",
        "            nama = objek_dengan_luas.nama_bentuk()\n",
        "        except AttributeError:\n",
        "            # Jika tidak ada nama_bentuk(), gunakan nama kelasnya\n",
        "            nama = type(objek_dengan_luas).__name__\n",
        "\n",
        "        print(f\"Objek: {nama}\")\n",
        "        print(f\"Luas: {luas:.2f}\") # Format luas 2 angka desimal\n",
        "\n",
        "    except NotImplementedError: # Menangani NotImplementedError secara spesifik\n",
        "        print(f\"Objek {type(objek_dengan_luas).__name__} belum mengimplementasikan perhitungan luas.\")\n",
        "    except AttributeError:\n",
        "        # Menangani jika objek sama sekali tidak punya .hitung_luas()\n",
        "        print(f\"Objek {type(objek_dengan_luas).__name__} tidak dapat dihitung luasnya (metode tidak ditemukan).\")\n",
        "\n",
        "\n",
        "# --- Kode Utama ---\n",
        "if __name__ == \"__main__\":\n",
        "     lingkaran1 = Lingkaran(7)\n",
        "     persegi1 = Persegi(5)\n",
        "     taplak1 = TaplakMeja(1.5, 0.8)\n",
        "     bentuk_dasar = Bentuk() # Objek kelas induk (akan raise NotImplementedError)\n",
        "     string_biasa = \"Ini string\" # Objek yang tidak relevan\n",
        "     daftar_item = [lingkaran1, persegi1, taplak1, bentuk_dasar, string_biasa]\n",
        "\n",
        "     print(\"Menampilkan Info Luas (Polimorfisme Campuran):\")\n",
        "     for item in daftar_item:\n",
        "         tampilkan_info_luas(item)"
      ],
      "metadata": {
        "colab": {
          "base_uri": "https://localhost:8080/"
        },
        "id": "yFurbpEi7Kg5",
        "outputId": "29f74a25-4e27-4eff-f3ea-e1dca041c11f"
      },
      "execution_count": null,
      "outputs": [
        {
          "output_type": "stream",
          "name": "stdout",
          "text": [
            "Menampilkan Info Luas (Polimorfisme Campuran):\n",
            "--------------------\n",
            "Objek: Lingkaran\n",
            "Luas: 153.94\n",
            "--------------------\n",
            "Objek: Persegi\n",
            "Luas: 25.00\n",
            "--------------------\n",
            "Objek: TaplakMeja\n",
            "Luas: 1.20\n",
            "--------------------\n",
            "Objek Bentuk belum mengimplementasikan perhitungan luas.\n",
            "--------------------\n",
            "Objek str tidak dapat dihitung luasnya (metode tidak ditemukan).\n"
          ]
        }
      ]
    },
    {
      "cell_type": "markdown",
      "source": [
        "##Praktikum 06: Kontrol Perilaku Polimorfik dengan isinstance()\n",
        "Tujuan: Menggunakan isinstance() di dalam fungsi yang bekerja secara polimorfik untuk  menambahkan perilaku khusus berdasarkan tipe objek, selain memanggil metode yang di override."
      ],
      "metadata": {
        "id": "gEEpmxzwfvQg"
      }
    },
    {
      "cell_type": "code",
      "source": [
        "# --- Definisi Kelas Burung, Elang, Pipit ---\n",
        "class Burung:\n",
        "  def __init__(self, nama):\n",
        "    self.nama = nama\n",
        "\n",
        "  def terbang(self):\n",
        "    print(f\"{self.nama} terbang dengan cara umum.\")\n",
        "\n",
        "  def bersuara(self):\n",
        "    print(f\"{self.nama} mengeluarkan suara burung.\")\n",
        "\n",
        "class Elang(Burung):\n",
        "  def __init__(self, nama, rentang_sayap):\n",
        "    super().__init__(nama)\n",
        "    self.rentang_sayap = rentang_sayap\n",
        "  # Override\n",
        "  def terbang(self):\n",
        "    print(f\"{self.nama} terbang tinggi melayang di angkasa.\")\n",
        "  # Override\n",
        "  def bersuara(self):\n",
        "    print(f\"{self.nama} berteriak nyaring!\")\n",
        "  # Metode Khusus Elang\n",
        "  def berburu(self):\n",
        "    print(f\"{self.nama} sedang mencari mangsa dari ketinggian.\")\n",
        "\n",
        "class Pipit(Burung):\n",
        "  def __init__(self, nama, warna_bulu):\n",
        "    super().__init__(nama)\n",
        "    self.warna_bulu = warna_bulu\n",
        "  # Override\n",
        "  def terbang(self):\n",
        "    print(f\"{self.nama} terbang cepat di antara pepohonan.\")\n",
        "  # Override\n",
        "  def bersuara(self):\n",
        "    print(f\"{self.nama} berkicau merdu: Cit cit!\")\n",
        "  # Metode Khusus Pipit\n",
        "  def membangun_sarang(self):\n",
        "    print(f\"{self.nama} sedang mengumpulkan ranting untuk sarang.\")\n",
        "\n",
        "# --- Fungsi yang memanfaatkan polimorfisme dan isinstance() ---\n",
        "def interaksi_dengan_burung(burung):\n",
        "    print(f\"\\n--- Berinteraksi dengan {type(burung).__name__}: {getattr(burung, 'nama', 'Objek tidak dikenal')} ---\")\n",
        "\n",
        "    # cek duku apakah objek adalah instance dari Burung atau turunannya\n",
        "    if isinstance(burung, Burung):\n",
        "      # Perilaku polimorfik dasar (memanggil metode override)\n",
        "      burung.terbang()\n",
        "      burung.bersuara()\n",
        "\n",
        "      # Menambahkan perilaku spesifik berdasarkan tipe turunan\n",
        "      if isinstance(burung, Elang):\n",
        "        print(\"-> Ini adalah Elang!\")\n",
        "        burung.berburu() #Panggil metode khusus Elang\n",
        "      elif isinstance(burung, Pipit):\n",
        "        print(\"-> Ini adalah Pipit!\")\n",
        "        burung.membangun_sarang() # Panggil metode khusus Pipit\n",
        "      else:\n",
        "        # Hanya Burung generik, bukan turunan spesifik yang  dikenali\n",
        "        print(\"-> Ini adalah burung jenis umum (bukan Elang/Pipit).\")\n",
        "    else:\n",
        "      # Jika objek BUKAN instance Burung sama sekali\n",
        "      print(\"-> Objek ini bukan termasuk jenis Burung.\")\n",
        "    print(\"-\" * 25)\n",
        "\n",
        "# --- Kode Utama ---\n",
        "if __name__ == \"__main__\":\n",
        "  elang_sumatra = Elang(\"Elang Sumatra\", 1.8)\n",
        "  pipit_rumah = Pipit(\"Pipit Rumah\", \"Abu-abu\")\n",
        "  merak = Burung(\"Merak\") # Contoh Burung lain (induk)\n",
        "  kucing_tetangga = \"Meong\" # Objek non-burung\n",
        "\n",
        "  koleksi_makhluk = [elang_sumatra, pipit_rumah, merak, kucing_tetangga]\n",
        "\n",
        "  for makhluk in koleksi_makhluk:\n",
        "    interaksi_dengan_burung(makhluk)\n"
      ],
      "metadata": {
        "colab": {
          "base_uri": "https://localhost:8080/"
        },
        "id": "wc0yt7PHfv05",
        "outputId": "f0342751-29b9-41ef-f43d-fab18aa59d11"
      },
      "execution_count": null,
      "outputs": [
        {
          "output_type": "stream",
          "name": "stdout",
          "text": [
            "\n",
            "--- Berinteraksi dengan Elang: Elang Sumatra ---\n",
            "Elang Sumatra terbang tinggi melayang di angkasa.\n",
            "Elang Sumatra berteriak nyaring!\n",
            "-> Ini adalah Elang!\n",
            "Elang Sumatra sedang mencari mangsa dari ketinggian.\n",
            "-------------------------\n",
            "\n",
            "--- Berinteraksi dengan Pipit: Pipit Rumah ---\n",
            "Pipit Rumah terbang cepat di antara pepohonan.\n",
            "Pipit Rumah berkicau merdu: Cit cit!\n",
            "-> Ini adalah Pipit!\n",
            "Pipit Rumah sedang mengumpulkan ranting untuk sarang.\n",
            "-------------------------\n",
            "\n",
            "--- Berinteraksi dengan Burung: Merak ---\n",
            "Merak terbang dengan cara umum.\n",
            "Merak mengeluarkan suara burung.\n",
            "-> Ini adalah burung jenis umum (bukan Elang/Pipit).\n",
            "-------------------------\n",
            "\n",
            "--- Berinteraksi dengan str: Objek tidak dikenal ---\n",
            "-> Objek ini bukan termasuk jenis Burung.\n",
            "-------------------------\n"
          ]
        }
      ]
    },
    {
      "cell_type": "markdown",
      "source": [
        "## Penugasan\n"
      ],
      "metadata": {
        "id": "6ojhuyvD0gx3"
      }
    },
    {
      "cell_type": "markdown",
      "source": [
        "Buat Program dan Kelas diagram untuk hierarki kelas Komputer dan mendemonstrasikan  polimorfisme serta simulasi overloading.\n",
        "\n",
        "• Buat Kelas Induk (Komputer):\n",
        "\n",
        "o Atribut: merk (string), processor (string), ram_gb (integer).\n",
        "o Konstruktor (__init__): Menerima dan menginisialisasi ketiga atribut di atas. o Metode info_spesifikasi(self): Mencetak informasi dasar komputer (merk, processor,  RAM). Contoh:  \n",
        "o Merk: [Merk Komputer]\n",
        "o Processor: [Nama Processor]\n",
        "o RAM: [Jumlah RAM] GB\n",
        "o Metode jalankan_aplikasi(self, nama_aplikasi): Mencetak pesan bahwa komputer sedang  menjalankan aplikasi. Contoh: \"[Merk Komputer] menjalankan aplikasi: [nama_aplikasi]...\"\n",
        "\n",
        "• Buat Kelas Anak 1 (Laptop):\n",
        "\n",
        "o Mewarisi dari Komputer.\n",
        "o Atribut Tambahan: ukuran_layar_inch (float), berat_kg (float).\n",
        "o Konstruktor (__init__): Menerima merk, processor, ram_gb, ukuran_layar_inch, dan berat_kg.  Gunakan super().__init__() untuk inisialisasi bagian Komputer.\n",
        "o Override metode info_spesifikasi(self): Panggil super().info_spesifikasi(), lalu tambahkan  informasi ukuran layar dan berat laptop. Contoh output tambahan:  \n",
        "o Ukuran Layar: [Ukuran Layar] inch\n",
        "o Berat: [Berat Laptop] Kg\n",
        "\n",
        "• Buat Kelas Anak 2 (Desktop):\n",
        "\n",
        "o Mewarisi dari Komputer.\n",
        "o Atribut Tambahan: jenis_casing (string, misal: \"Tower\", \"Mini-PC\"), monitor_external (boolean, True jika ada monitor terpisah).\n",
        "o Konstruktor (__init__): Menerima merk, processor, ram_gb, jenis_casing, dan monitor_external.  Gunakan super().__init__() untuk inisialisasi bagian Komputer.\n",
        "o Override metode info_spesifikasi(self): Panggil super().info_spesifikasi(), lalu tambahkan  informasi jenis casing dan status monitor eksternal. Contoh output tambahan:  o Jenis Casing: [Jenis Casing]\n",
        "o Monitor External: [Ya / Tidak]\n",
        "\n",
        "• Demonstrasi Polimorfisme:\n",
        "\n",
        "o Buat sebuah fungsi terpisah, misalnya cetak_semua_spesifikasi(daftar_komputer). o Fungsi ini menerima sebuah list daftar_komputer yang berisi objek-objek dari Laptop dan  Desktop.\n",
        "o Di dalam fungsi, lakukan loop pada daftar_komputer dan untuk setiap komputer dalam list,  panggil metode komputer.info_spesifikasi().\n",
        "o Amati bagaimana pemanggilan metode yang sama menghasilkan output yang berbeda  (sesuai override di Laptop dan Desktop).\n",
        "\n",
        "• Simulasi Overloading (Pilih salah satu metode berikut):\n",
        "\n",
        "o Opsi A (Default Argument): Tambahkan metode upgrade_ram(self, tambahan_gb) pada  kelas Komputer. Modifikasi metode ini agar bisa menerima argumen opsional tipe_ram dengan nilai default (misal, \"DDR4\"). Metode ini harus mencetak informasi upgrade.  Contoh: RAM [Merk Komputer] diupgrade sebesar [tambahan_gb] GB (Tipe: [tipe_ram]). Total RAM  sekarang: [RAM baru] GB. Panggil metode ini dengan dan tanpa argumen tipe_ram.\n",
        "o *Opsi B (args): Tambahkan metode install_software(self, *args) pada kelas Komputer.  Metode ini harus bisa menerima satu atau lebih nama software (string) sebagai argumen  posisi. Di dalam metode, cetak nama setiap software yang diinstal. Contoh: Menginstall  [nama_software] di [Merk Komputer]... Panggil metode ini dengan satu nama software dan  dengan beberapa nama software.\n",
        "\n",
        "• Buat Kode Utama (Bagian if __name__ == \"__main__\":)\n",
        "\n",
        "o Buat minimal satu objek Laptop dan satu objek Desktop.\n",
        "o Masukkan objek-objek tersebut ke dalam sebuah list.\n",
        "o Panggil fungsi cetak_semua_spesifikasi() yang Anda buat di langkah 4 dengan list tersebut. o Demonstrasikan pemanggilan metode simulasi overloading yang Anda pilih di langkah  5 pada salah satu objek komputer Anda."
      ],
      "metadata": {
        "id": "7K2Gfc2x0K9G"
      }
    },
    {
      "cell_type": "code",
      "source": [
        "class Komputer:\n",
        "  def __init__(self, merk, processor, ram_gb):\n",
        "      self.merk = merk\n",
        "      self.processor = processor\n",
        "      self.ram_gb = ram_gb\n",
        "\n",
        "  def info_spesifikasi(self):\n",
        "      print(f\"Merk: {self.merk}\")\n",
        "      print(f\"Processor: {self.processor}\")\n",
        "      print(f\"RAM: {self.ram_gb} GB\")\n",
        "\n",
        "  def jalankan_aplikasi(self, nama_aplikasi):\n",
        "      print(f\"{self.merk} sedang menjalankan aplikasi: {nama_aplikasi}...\")\n",
        "\n",
        "  # Simulasi Overloading menggunakan Default Argument\n",
        "  def upgrade_ram(self, tambahan_gb, tipe_ram=\"DDR4\"):\n",
        "      self.ram_gb += tambahan_gb\n",
        "      print(f\"RAM {self.merk} diupgrade sebesar {tambahan_gb} GB (Tipe: {tipe_ram}).\")\n",
        "      print(f\"Total RAM sekarang: {self.ram_gb} GB.\")\n",
        "\n",
        "class Laptop(Komputer):\n",
        "  def __init__(self, merk, processor, ram_gb, ukuran_layar_inch, berat_kg):\n",
        "      super().__init__(merk, processor, ram_gb)\n",
        "      self.ukuran_layar_inch = ukuran_layar_inch\n",
        "      self.berat_kg = berat_kg\n",
        "\n",
        "  def info_spesifikasi(self):\n",
        "      super().info_spesifikasi()\n",
        "      print(f\"Ukuran Layar: {self.ukuran_layar_inch} inch\")\n",
        "      print(f\"Berat: {self.berat_kg} Kg\")\n",
        "\n",
        "class Desktop(Komputer):\n",
        "  def __init__(self, merk, processor, ram_gb, jenis_casing, monitor_external):\n",
        "      super().__init__(merk, processor, ram_gb)\n",
        "      self.jenis_casing = jenis_casing\n",
        "      self.monitor_external = monitor_external\n",
        "\n",
        "  def info_spesifikasi(self):\n",
        "      super().info_spesifikasi()\n",
        "      print(f\"Jenis Casing: {self.jenis_casing}\")\n",
        "      print(f\"Monitor External: {'Ya' if self.monitor_external else 'Tidak'}\")\n",
        "\n",
        "# Polimorfisme: Fungsi menerima list berbagai objek\n",
        "def cetak_semua_spesifikasi(daftar_komputer):\n",
        "    for komputer in daftar_komputer:\n",
        "        print(f\"\\n=== Spesifikasi Komputer ===\")\n",
        "        komputer.info_spesifikasi()\n",
        "\n",
        "# Kode Utama\n",
        "if __name__ == \"__main__\":\n",
        "    # Membuat objek Laptop dan Dekstop\n",
        "    laptop1 = Laptop(\"ASUS\", \"Intel i7\", 8, 15.6, 1.5)\n",
        "    desktop1 = Desktop(\"Lenovo\", \"AMD Ryzen 5\", 16, \"Tower\", True)\n",
        "\n",
        "    # Masukkan ke dalam list\n",
        "    daftar_komputer = [laptop1, desktop1]\n",
        "\n",
        "    # Demonstrasi Polimorfisme\n",
        "    cetak_semua_spesifikasi(daftar_komputer)\n",
        "\n",
        "    # Jalankan Aplikasi\n",
        "    print(\"\\n=== Menjalankan Aplikasi ===\")\n",
        "    laptop1.jalankan_aplikasi(\"Visual Studio Code\")\n",
        "    desktop1.jalankan_aplikasi(\"Photoshop\")\n",
        "\n",
        "    # Demonstrasi Overloading\n",
        "    print(\"\\n=== Upgrade RAM dengan Default Argument ===\")\n",
        "    laptop1.upgrade_ram(4)  # menggunakan default tipe_ram\n",
        "    desktop1.upgrade_ram(8, \"DDR5\")  # menggunakan tipe_ram yang ditentukan\n",
        "\n",
        "\n",
        "\n",
        ""
      ],
      "metadata": {
        "colab": {
          "base_uri": "https://localhost:8080/"
        },
        "id": "YRyqFxpp0KGp",
        "outputId": "a81899b8-2d13-44ce-db34-5ee20b055fc9"
      },
      "execution_count": 4,
      "outputs": [
        {
          "output_type": "stream",
          "name": "stdout",
          "text": [
            "\n",
            "=== Spesifikasi Komputer ===\n",
            "Merk: ASUS\n",
            "Processor: Intel i7\n",
            "RAM: 8 GB\n",
            "Ukuran Layar: 15.6 inch\n",
            "Berat: 1.5 Kg\n",
            "\n",
            "=== Spesifikasi Komputer ===\n",
            "Merk: Lenovo\n",
            "Processor: AMD Ryzen 5\n",
            "RAM: 16 GB\n",
            "Jenis Casing: Tower\n",
            "Monitor External: Ya\n",
            "\n",
            "=== Menjalankan Aplikasi ===\n",
            "ASUS sedang menjalankan aplikasi: Visual Studio Code...\n",
            "Lenovo sedang menjalankan aplikasi: Photoshop...\n",
            "\n",
            "=== Upgrade RAM dengan Default Argument ===\n",
            "RAM ASUS diupgrade sebesar 4 GB (Tipe: DDR4).\n",
            "Total RAM sekarang: 12 GB.\n",
            "RAM Lenovo diupgrade sebesar 8 GB (Tipe: DDR5).\n",
            "Total RAM sekarang: 24 GB.\n"
          ]
        }
      ]
    }
  ]
}
